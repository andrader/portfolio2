{
 "cells": [
  {
   "cell_type": "code",
   "execution_count": 13,
   "id": "satisfactory-workstation",
   "metadata": {
    "execution": {
     "iopub.execute_input": "2021-04-02T15:27:05.531070Z",
     "iopub.status.busy": "2021-04-02T15:27:05.531070Z",
     "iopub.status.idle": "2021-04-02T15:27:05.609181Z",
     "shell.execute_reply": "2021-04-02T15:27:05.609181Z",
     "shell.execute_reply.started": "2021-04-02T15:27:05.531070Z"
    },
    "tags": []
   },
   "outputs": [
    {
     "name": "stdout",
     "output_type": "stream",
     "text": [
      "The autoreload extension is already loaded. To reload it, use:\n",
      "  %reload_ext autoreload\n"
     ]
    }
   ],
   "source": [
    "import numpy as np\n",
    "import pandas as pd\n",
    "\n",
    "import edhec_risk_kit_206 as erk\n",
    "\n",
    "%load_ext autoreload\n",
    "%autoreload 2\n",
    "\n",
    "pd.options.display.float_format = '{:.2%}'.format"
   ]
  },
  {
   "cell_type": "markdown",
   "id": "overall-writer",
   "metadata": {},
   "source": [
    "1.\n",
    "Pergunta 1\n",
    "Load the 30 Value Weighted industry portfolio returns. Limit the analysis to returns of the 30 VW portfolios from 1997 onwards (1997 included, 1996 not included, 2018 included). Also load the Market Caps of each of the 30 industries. Run a backtest of comparing a CapWeighted vs an EW portfolio over the period. Though these two weighting schemes do not need any estimation, use an estimation period of 36 months so that we can compare it in the next few questions.\n",
    "Hint: If you want to use the supplied code, import the final version of the backtester in file edhec_risk_kit_206 using:\n",
    "\n",
    "import edhec_risk_kit_206 as erk\n",
    "\n",
    "Remember that to load the  Value Weighted series you should use  erk.get_ind_returns(weighting=\"vw\", ...)\n",
    "and then use erk.backtest_ws(rets, estimation_window=36, weighting=...) The first month for which you have backtested returns should be 2000-01 and the last month should be 2018-12\n",
    "What was the annualized return over period for the Cap Weighted Industry Portfolio?\n",
    "\n",
    "Enter the answer as a percentage  (e.g. for a return of 5.67% enter 5.67)\n",
    "1 ponto"
   ]
  },
  {
   "cell_type": "markdown",
   "id": "alike-suicide",
   "metadata": {},
   "source": [
    "2.\n",
    "Pergunta 2\n",
    "Use the same data and period as the previous question.\n",
    "What was the annualized volatility over the period for the Cap Weighted Industry Portfolio?\n",
    "\n",
    "Enter the answer as a percentage  (e.g. for a vol of 25.67% enter 25.67)\n",
    "1 ponto"
   ]
  },
  {
   "cell_type": "markdown",
   "id": "graduate-testament",
   "metadata": {},
   "source": [
    "3.\n",
    "Pergunta 3\n",
    "Use the same data and period as the previous question.\n",
    "What was the annualized return over period for the Equal Weighted Industry Portfolio?\n",
    "\n",
    "Enter the answer as a percentage  (e.g. for a return of 5.67% enter 5.67)\n",
    "1 ponto"
   ]
  },
  {
   "cell_type": "markdown",
   "id": "medical-overview",
   "metadata": {},
   "source": [
    "4.\n",
    "Pergunta 4\n",
    "Use the same data and period as the previous question.\n",
    "What was the annualized volatility over the period for the Equal Weighted Industry Portfolio? \n",
    "\n",
    "Enter the answer as a percentage  (e.g. for a vol of 15.67% enter 15.67)\n",
    "1 ponto"
   ]
  },
  {
   "cell_type": "code",
   "execution_count": 15,
   "id": "thermal-girlfriend",
   "metadata": {
    "execution": {
     "iopub.execute_input": "2021-04-02T15:27:11.817592Z",
     "iopub.status.busy": "2021-04-02T15:27:11.817592Z",
     "iopub.status.idle": "2021-04-02T15:27:12.087390Z",
     "shell.execute_reply": "2021-04-02T15:27:12.087390Z",
     "shell.execute_reply.started": "2021-04-02T15:27:11.817592Z"
    },
    "tags": []
   },
   "outputs": [
    {
     "data": {
      "text/html": [
       "<div>\n",
       "<style scoped>\n",
       "    .dataframe tbody tr th:only-of-type {\n",
       "        vertical-align: middle;\n",
       "    }\n",
       "\n",
       "    .dataframe tbody tr th {\n",
       "        vertical-align: top;\n",
       "    }\n",
       "\n",
       "    .dataframe thead th {\n",
       "        text-align: right;\n",
       "    }\n",
       "</style>\n",
       "<table border=\"1\" class=\"dataframe\">\n",
       "  <thead>\n",
       "    <tr style=\"text-align: right;\">\n",
       "      <th></th>\n",
       "      <th>Annualized Return</th>\n",
       "      <th>Annualized Vol</th>\n",
       "      <th>Skewness</th>\n",
       "      <th>Kurtosis</th>\n",
       "      <th>Cornish-Fisher VaR (5%)</th>\n",
       "      <th>Historic CVaR (5%)</th>\n",
       "      <th>Sharpe Ratio</th>\n",
       "      <th>Max Drawdown</th>\n",
       "    </tr>\n",
       "  </thead>\n",
       "  <tbody>\n",
       "    <tr>\n",
       "      <th>CW</th>\n",
       "      <td>6.52%</td>\n",
       "      <td>15.15%</td>\n",
       "      <td>-55.66%</td>\n",
       "      <td>424.99%</td>\n",
       "      <td>7.11%</td>\n",
       "      <td>9.85%</td>\n",
       "      <td>22.59%</td>\n",
       "      <td>-51.90%</td>\n",
       "    </tr>\n",
       "    <tr>\n",
       "      <th>EW</th>\n",
       "      <td>7.76%</td>\n",
       "      <td>15.87%</td>\n",
       "      <td>-53.85%</td>\n",
       "      <td>531.70%</td>\n",
       "      <td>7.25%</td>\n",
       "      <td>10.62%</td>\n",
       "      <td>29.18%</td>\n",
       "      <td>-53.30%</td>\n",
       "    </tr>\n",
       "  </tbody>\n",
       "</table>\n",
       "</div>"
      ],
      "text/plain": [
       "    Annualized Return  Annualized Vol  Skewness  Kurtosis  \\\n",
       "CW              6.52%          15.15%   -55.66%   424.99%   \n",
       "EW              7.76%          15.87%   -53.85%   531.70%   \n",
       "\n",
       "    Cornish-Fisher VaR (5%)  Historic CVaR (5%)  Sharpe Ratio  Max Drawdown  \n",
       "CW                    7.11%               9.85%        22.59%       -51.90%  \n",
       "EW                    7.25%              10.62%        29.18%       -53.30%  "
      ]
     },
     "execution_count": 15,
     "metadata": {},
     "output_type": "execute_result"
    }
   ],
   "source": [
    "ind_rets = erk.get_ind_returns(weighting=\"vw\", n_inds=30)['1997':'2018']\n",
    "ind_mcap = erk.get_ind_market_caps(30, weights=True)['1997':'2018']\n",
    "\n",
    "\n",
    "ewr = erk.backtest_ws(ind_rets, estimation_window=36, weighting=erk.weight_ew).dropna()\n",
    "cwr = erk.backtest_ws(ind_rets, estimation_window=36, weighting=erk.weight_cw, cap_weights=ind_mcap).dropna()\n",
    "btr = pd.DataFrame({\"CW\": cwr, \"EW\": ewr})\n",
    "erk.summary_stats(btr)"
   ]
  },
  {
   "cell_type": "markdown",
   "id": "exact-bracket",
   "metadata": {},
   "source": [
    "5.\n",
    "Pergunta 5\n",
    "Now using the same data and same period, re-run the EW backtest but this time create a tethered EW portfolio by removing Microcap industries using a threshold of 1% and a max cap-weight multiple of 2X\n",
    "What was the annualized return over the period for the tethered Equal Weighted Industry Portfolio?\n",
    "\n",
    "Enter the answer as a percentage  (e.g. for a return of 5.67% enter 5.67)\n",
    "1 ponto"
   ]
  },
  {
   "cell_type": "markdown",
   "id": "limiting-breathing",
   "metadata": {},
   "source": [
    "6.\n",
    "Pergunta 6\n",
    "Use the same tethered EW portfolio (by removing Microcap industries using a threshold of 1% and a max cap-weight multiple of 2X) as in the previous question.\n",
    "What was the annualized volatility over the period for the tethered Equal Weighted Industry Portfolio? \n",
    "\n",
    "Enter the answer as a percentage  (e.g. for a vol of 5.67% enter 5.67)\n",
    "1 ponto"
   ]
  },
  {
   "cell_type": "code",
   "execution_count": 16,
   "id": "handled-seven",
   "metadata": {
    "execution": {
     "iopub.execute_input": "2021-04-02T15:27:20.838771Z",
     "iopub.status.busy": "2021-04-02T15:27:20.838771Z",
     "iopub.status.idle": "2021-04-02T15:27:21.387149Z",
     "shell.execute_reply": "2021-04-02T15:27:21.387149Z",
     "shell.execute_reply.started": "2021-04-02T15:27:20.838771Z"
    },
    "tags": []
   },
   "outputs": [
    {
     "data": {
      "text/html": [
       "<div>\n",
       "<style scoped>\n",
       "    .dataframe tbody tr th:only-of-type {\n",
       "        vertical-align: middle;\n",
       "    }\n",
       "\n",
       "    .dataframe tbody tr th {\n",
       "        vertical-align: top;\n",
       "    }\n",
       "\n",
       "    .dataframe thead th {\n",
       "        text-align: right;\n",
       "    }\n",
       "</style>\n",
       "<table border=\"1\" class=\"dataframe\">\n",
       "  <thead>\n",
       "    <tr style=\"text-align: right;\">\n",
       "      <th></th>\n",
       "      <th>Annualized Return</th>\n",
       "      <th>Annualized Vol</th>\n",
       "      <th>Skewness</th>\n",
       "      <th>Kurtosis</th>\n",
       "      <th>Cornish-Fisher VaR (5%)</th>\n",
       "      <th>Historic CVaR (5%)</th>\n",
       "      <th>Sharpe Ratio</th>\n",
       "      <th>Max Drawdown</th>\n",
       "    </tr>\n",
       "  </thead>\n",
       "  <tbody>\n",
       "    <tr>\n",
       "      <th>0</th>\n",
       "      <td>7.68%</td>\n",
       "      <td>14.08%</td>\n",
       "      <td>-64.99%</td>\n",
       "      <td>466.44%</td>\n",
       "      <td>6.55%</td>\n",
       "      <td>9.38%</td>\n",
       "      <td>32.37%</td>\n",
       "      <td>-48.74%</td>\n",
       "    </tr>\n",
       "  </tbody>\n",
       "</table>\n",
       "</div>"
      ],
      "text/plain": [
       "   Annualized Return  Annualized Vol  Skewness  Kurtosis  \\\n",
       "0              7.68%          14.08%   -64.99%   466.44%   \n",
       "\n",
       "   Cornish-Fisher VaR (5%)  Historic CVaR (5%)  Sharpe Ratio  Max Drawdown  \n",
       "0                    6.55%               9.38%        32.37%       -48.74%  "
      ]
     },
     "execution_count": 16,
     "metadata": {},
     "output_type": "execute_result"
    }
   ],
   "source": [
    "ewtr = erk.backtest_ws(ind_rets,weighting=erk.weight_ew, cap_weights=ind_mcap, max_cw_mult=2, microcap_threshold=.01,estimation_window=36)\n",
    "erk.summary_stats(pd.DataFrame(ewtr.dropna()))"
   ]
  },
  {
   "cell_type": "markdown",
   "id": "beautiful-musician",
   "metadata": {},
   "source": [
    "7.\n",
    "Pergunta 7\n",
    "What was Tracking Error between the Pure EW (without any tethering) portfolio and the CW portfolio?\n",
    "\n",
    "Enter the answer as a percentage  (e.g. for a Tracking Error of 5.67% enter 5.67)\n",
    "1 ponto"
   ]
  },
  {
   "cell_type": "code",
   "execution_count": 19,
   "id": "fifteen-norfolk",
   "metadata": {
    "execution": {
     "iopub.execute_input": "2021-04-02T15:27:49.209066Z",
     "iopub.status.busy": "2021-04-02T15:27:49.209066Z",
     "iopub.status.idle": "2021-04-02T15:27:49.293690Z",
     "shell.execute_reply": "2021-04-02T15:27:49.293690Z",
     "shell.execute_reply.started": "2021-04-02T15:27:49.209066Z"
    },
    "tags": []
   },
   "outputs": [
    {
     "data": {
      "text/plain": [
       "0   18.75%\n",
       "dtype: float64"
      ]
     },
     "execution_count": 19,
     "metadata": {},
     "output_type": "execute_result"
    }
   ],
   "source": [
    "pd.Series(erk.tracking_error(ewr, cwr))"
   ]
  },
  {
   "cell_type": "markdown",
   "id": "confirmed-infrastructure",
   "metadata": {},
   "source": [
    "8.\n",
    "Pergunta 8\n",
    "Now consider the Tethered EW portfolio you previously created (by removing Microcap industries using a threshold of 1% and a max cap-weight multiple of 2X)\n",
    "What was Tracking Error between the Tethered EW portfolio and the CW portfolio?\n",
    "\n",
    "Enter the answer as a percentage  (e.g. for a Tracking Error of 5.67% enter 5.67)\n",
    "1 ponto"
   ]
  },
  {
   "cell_type": "code",
   "execution_count": 21,
   "id": "incoming-destination",
   "metadata": {
    "execution": {
     "iopub.execute_input": "2021-04-02T15:28:04.994994Z",
     "iopub.status.busy": "2021-04-02T15:28:04.994994Z",
     "iopub.status.idle": "2021-04-02T15:28:05.064060Z",
     "shell.execute_reply": "2021-04-02T15:28:05.064060Z",
     "shell.execute_reply.started": "2021-04-02T15:28:04.994994Z"
    },
    "tags": []
   },
   "outputs": [
    {
     "data": {
      "text/plain": [
       "0   11.67%\n",
       "dtype: float64"
      ]
     },
     "execution_count": 21,
     "metadata": {},
     "output_type": "execute_result"
    }
   ],
   "source": [
    "pd.Series(erk.tracking_error(ewtr, cwr))"
   ]
  },
  {
   "cell_type": "markdown",
   "id": "differential-specification",
   "metadata": {},
   "source": [
    "9.\n",
    "Pergunta 9\n",
    "Run a backtest for the same period (1997 onwards i.e. 1997 included, 1996 not included, 2018 included), using an estimation window of 36 months as above, to build the Global Minimum Variance Portfolio by estimating the Covariance matrix using Sample Covariance. (This might take a minute or so to run depending on your computer power!) \n",
    "What was the annualized return over the period for the GMV Portfolio?\n",
    "\n",
    "Enter the answer as a percentage  (e.g. for a return of 5.67% enter 5.67)\n",
    "1 ponto"
   ]
  },
  {
   "cell_type": "markdown",
   "id": "stone-comparative",
   "metadata": {},
   "source": [
    "10.\n",
    "Pergunta 10\n",
    "Use the same GMV portfolio as the previous question. What was the annualized volatility over the period for the GMV Portfolio?\n",
    "\n",
    "Enter the answer as a percentage  (e.g. for a vol of 5.67% enter 5.67)\n",
    "1 ponto"
   ]
  },
  {
   "cell_type": "code",
   "execution_count": 22,
   "id": "genetic-jason",
   "metadata": {
    "execution": {
     "iopub.execute_input": "2021-04-02T15:28:17.725504Z",
     "iopub.status.busy": "2021-04-02T15:28:17.725504Z",
     "iopub.status.idle": "2021-04-02T15:28:45.278741Z",
     "shell.execute_reply": "2021-04-02T15:28:45.278741Z",
     "shell.execute_reply.started": "2021-04-02T15:28:17.725504Z"
    },
    "tags": []
   },
   "outputs": [
    {
     "data": {
      "text/html": [
       "<div>\n",
       "<style scoped>\n",
       "    .dataframe tbody tr th:only-of-type {\n",
       "        vertical-align: middle;\n",
       "    }\n",
       "\n",
       "    .dataframe tbody tr th {\n",
       "        vertical-align: top;\n",
       "    }\n",
       "\n",
       "    .dataframe thead th {\n",
       "        text-align: right;\n",
       "    }\n",
       "</style>\n",
       "<table border=\"1\" class=\"dataframe\">\n",
       "  <thead>\n",
       "    <tr style=\"text-align: right;\">\n",
       "      <th></th>\n",
       "      <th>Annualized Return</th>\n",
       "      <th>Annualized Vol</th>\n",
       "      <th>Skewness</th>\n",
       "      <th>Kurtosis</th>\n",
       "      <th>Cornish-Fisher VaR (5%)</th>\n",
       "      <th>Historic CVaR (5%)</th>\n",
       "      <th>Sharpe Ratio</th>\n",
       "      <th>Max Drawdown</th>\n",
       "    </tr>\n",
       "  </thead>\n",
       "  <tbody>\n",
       "    <tr>\n",
       "      <th>GMV-Sample</th>\n",
       "      <td>6.63%</td>\n",
       "      <td>11.74%</td>\n",
       "      <td>-74.11%</td>\n",
       "      <td>446.92%</td>\n",
       "      <td>5.55%</td>\n",
       "      <td>8.06%</td>\n",
       "      <td>30.08%</td>\n",
       "      <td>-42.13%</td>\n",
       "    </tr>\n",
       "  </tbody>\n",
       "</table>\n",
       "</div>"
      ],
      "text/plain": [
       "            Annualized Return  Annualized Vol  Skewness  Kurtosis  \\\n",
       "GMV-Sample              6.63%          11.74%   -74.11%   446.92%   \n",
       "\n",
       "            Cornish-Fisher VaR (5%)  Historic CVaR (5%)  Sharpe Ratio  \\\n",
       "GMV-Sample                    5.55%               8.06%        30.08%   \n",
       "\n",
       "            Max Drawdown  \n",
       "GMV-Sample       -42.13%  "
      ]
     },
     "execution_count": 22,
     "metadata": {},
     "output_type": "execute_result"
    }
   ],
   "source": [
    "mv_s_r = erk.backtest_ws(ind_rets, estimation_window=36, weighting=erk.weight_gmv, cov_estimator=erk.sample_cov)\n",
    "btr = pd.DataFrame({\"GMV-Sample\": mv_s_r})\n",
    "#(1+btr).cumprod().plot(figsize=(12,6), title=\"Industry Portfolios\")\n",
    "erk.summary_stats(btr.dropna())"
   ]
  },
  {
   "cell_type": "markdown",
   "id": "eight-religious",
   "metadata": {},
   "source": [
    "11.\n",
    "Pergunta 11\n",
    "Run a backtest for the same period as the previous question, and again using an estimation window of 36 months as above, to build the Global Minimum Variance Portfolio but this time, estimating the Covariance matrix using Shrinkage between the Constant Correlation and Sample Covariance estimates using a delta of 0.25. (This might take a minute or so to run depending on your computer power!)\n",
    "What was the annualized return over the period for this new Shrinkage-GMV Portfolio?\n",
    "\n",
    "Enter the answer as a percentage  (e.g. for a return of 5.67% enter 5.67)\n",
    "1 ponto"
   ]
  },
  {
   "cell_type": "markdown",
   "id": "acting-sending",
   "metadata": {},
   "source": [
    "12.\n",
    "Pergunta 12\n",
    "Using the same Shrinkage-GMV portfolio return series you used in the previous question, what was the annualized volatility over the period for the Shrinkage-GMV Portfolio?\n",
    "\n",
    "Enter the answer as a percentage  (e.g. for a vol of 5.67% enter 5.67)"
   ]
  },
  {
   "cell_type": "code",
   "execution_count": 23,
   "id": "seven-banana",
   "metadata": {
    "execution": {
     "iopub.execute_input": "2021-04-02T15:28:45.278741Z",
     "iopub.status.busy": "2021-04-02T15:28:45.278741Z",
     "iopub.status.idle": "2021-04-02T15:29:17.359329Z",
     "shell.execute_reply": "2021-04-02T15:29:17.359329Z",
     "shell.execute_reply.started": "2021-04-02T15:28:45.278741Z"
    },
    "tags": []
   },
   "outputs": [
    {
     "data": {
      "text/html": [
       "<div>\n",
       "<style scoped>\n",
       "    .dataframe tbody tr th:only-of-type {\n",
       "        vertical-align: middle;\n",
       "    }\n",
       "\n",
       "    .dataframe tbody tr th {\n",
       "        vertical-align: top;\n",
       "    }\n",
       "\n",
       "    .dataframe thead th {\n",
       "        text-align: right;\n",
       "    }\n",
       "</style>\n",
       "<table border=\"1\" class=\"dataframe\">\n",
       "  <thead>\n",
       "    <tr style=\"text-align: right;\">\n",
       "      <th></th>\n",
       "      <th>Annualized Return</th>\n",
       "      <th>Annualized Vol</th>\n",
       "      <th>Skewness</th>\n",
       "      <th>Kurtosis</th>\n",
       "      <th>Cornish-Fisher VaR (5%)</th>\n",
       "      <th>Historic CVaR (5%)</th>\n",
       "      <th>Sharpe Ratio</th>\n",
       "      <th>Max Drawdown</th>\n",
       "    </tr>\n",
       "  </thead>\n",
       "  <tbody>\n",
       "    <tr>\n",
       "      <th>mv_sh</th>\n",
       "      <td>6.85%</td>\n",
       "      <td>11.46%</td>\n",
       "      <td>-73.13%</td>\n",
       "      <td>426.50%</td>\n",
       "      <td>5.39%</td>\n",
       "      <td>7.77%</td>\n",
       "      <td>32.66%</td>\n",
       "      <td>-39.34%</td>\n",
       "    </tr>\n",
       "  </tbody>\n",
       "</table>\n",
       "</div>"
      ],
      "text/plain": [
       "       Annualized Return  Annualized Vol  Skewness  Kurtosis  \\\n",
       "mv_sh              6.85%          11.46%   -73.13%   426.50%   \n",
       "\n",
       "       Cornish-Fisher VaR (5%)  Historic CVaR (5%)  Sharpe Ratio  Max Drawdown  \n",
       "mv_sh                    5.39%               7.77%        32.66%       -39.34%  "
      ]
     },
     "execution_count": 23,
     "metadata": {},
     "output_type": "execute_result"
    }
   ],
   "source": [
    "mv_sh = erk.backtest_ws(ind_rets, estimation_window=36, weighting=erk.weight_gmv, cov_estimator=erk.shrinkage_cov, delta=0.25)\n",
    "btr = pd.DataFrame({\"mv_sh\": mv_sh})\n",
    "erk.summary_stats(btr.dropna())"
   ]
  }
 ],
 "metadata": {
  "kernelspec": {
   "display_name": "Python 3",
   "language": "python",
   "name": "python3"
  },
  "language_info": {
   "codemirror_mode": {
    "name": "ipython",
    "version": 3
   },
   "file_extension": ".py",
   "mimetype": "text/x-python",
   "name": "python",
   "nbconvert_exporter": "python",
   "pygments_lexer": "ipython3",
   "version": "3.8.5"
  }
 },
 "nbformat": 4,
 "nbformat_minor": 5
}
