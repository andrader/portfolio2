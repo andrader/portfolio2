{
 "cells": [
  {
   "cell_type": "code",
   "execution_count": 6,
   "id": "textile-place",
   "metadata": {
    "execution": {
     "iopub.execute_input": "2021-04-02T19:35:54.569716Z",
     "iopub.status.busy": "2021-04-02T19:35:54.569716Z",
     "iopub.status.idle": "2021-04-02T19:35:54.648021Z",
     "shell.execute_reply": "2021-04-02T19:35:54.648021Z",
     "shell.execute_reply.started": "2021-04-02T19:35:54.569716Z"
    },
    "tags": []
   },
   "outputs": [
    {
     "name": "stdout",
     "output_type": "stream",
     "text": [
      "The autoreload extension is already loaded. To reload it, use:\n",
      "  %reload_ext autoreload\n"
     ]
    }
   ],
   "source": [
    "%config Completer.use_jedi=False\n",
    "import numpy as np\n",
    "import pandas as pd\n",
    "\n",
    "import edhec_risk_kit_206 as erk\n",
    "\n",
    "%load_ext autoreload\n",
    "%autoreload 2\n",
    "\n",
    "pd.options.display.float_format = '{:.2%}'.format"
   ]
  },
  {
   "cell_type": "code",
   "execution_count": 10,
   "id": "prescribed-madness",
   "metadata": {
    "execution": {
     "iopub.execute_input": "2021-04-02T19:37:24.276807Z",
     "iopub.status.busy": "2021-04-02T19:37:24.276807Z",
     "iopub.status.idle": "2021-04-02T19:37:24.393073Z",
     "shell.execute_reply": "2021-04-02T19:37:24.393073Z",
     "shell.execute_reply.started": "2021-04-02T19:37:24.276807Z"
    },
    "tags": []
   },
   "outputs": [],
   "source": [
    "ind_rets = erk.get_ind_returns('vw',49)\n",
    "ind_mcap = erk.get_ind_market_caps(49,weights=True)#"
   ]
  },
  {
   "cell_type": "code",
   "execution_count": 39,
   "id": "registered-denial",
   "metadata": {
    "execution": {
     "iopub.execute_input": "2021-04-02T19:49:18.861291Z",
     "iopub.status.busy": "2021-04-02T19:49:18.861291Z",
     "iopub.status.idle": "2021-04-02T19:49:18.945921Z",
     "shell.execute_reply": "2021-04-02T19:49:18.945921Z",
     "shell.execute_reply.started": "2021-04-02T19:49:18.861291Z"
    },
    "tags": []
   },
   "outputs": [],
   "source": [
    "rets = ind_rets['2014':'2018']\n",
    "cov = rets.cov()"
   ]
  },
  {
   "cell_type": "code",
   "execution_count": 40,
   "id": "sticky-audience",
   "metadata": {
    "execution": {
     "iopub.execute_input": "2021-04-02T19:49:27.515564Z",
     "iopub.status.busy": "2021-04-02T19:49:27.515564Z",
     "iopub.status.idle": "2021-04-02T19:49:27.578055Z",
     "shell.execute_reply": "2021-04-02T19:49:27.578055Z",
     "shell.execute_reply.started": "2021-04-02T19:49:27.515564Z"
    },
    "tags": []
   },
   "outputs": [
    {
     "data": {
      "text/plain": [
       "('Banks', 10.406010634326318)"
      ]
     },
     "execution_count": 40,
     "metadata": {},
     "output_type": "execute_result"
    }
   ],
   "source": [
    "cw = ind_mcap['2014'].iloc[0]\n",
    "cw_rc = erk.risk_contribution(cw, cov)\n",
    "cw_rc.idxmax(), cw_rc.max()*100"
   ]
  },
  {
   "cell_type": "code",
   "execution_count": 42,
   "id": "center-trance",
   "metadata": {
    "execution": {
     "iopub.execute_input": "2021-04-02T19:49:42.555956Z",
     "iopub.status.busy": "2021-04-02T19:49:42.555956Z",
     "iopub.status.idle": "2021-04-02T19:49:42.630986Z",
     "shell.execute_reply": "2021-04-02T19:49:42.630986Z",
     "shell.execute_reply.started": "2021-04-02T19:49:42.555956Z"
    },
    "tags": []
   },
   "outputs": [
    {
     "data": {
      "text/plain": [
       "('Steel', 3.0937663971181446)"
      ]
     },
     "execution_count": 42,
     "metadata": {},
     "output_type": "execute_result"
    }
   ],
   "source": [
    "ew = erk.weight_ew(rets)\n",
    "ew_rc = erk.risk_contribution(ew, cov)\n",
    "ew_rc.idxmax(), ew_rc.max()*100"
   ]
  },
  {
   "cell_type": "code",
   "execution_count": 36,
   "id": "sixth-cement",
   "metadata": {
    "execution": {
     "iopub.execute_input": "2021-04-02T19:46:51.239953Z",
     "iopub.status.busy": "2021-04-02T19:46:51.239953Z",
     "iopub.status.idle": "2021-04-02T19:46:51.665789Z",
     "shell.execute_reply": "2021-04-02T19:46:51.665789Z",
     "shell.execute_reply.started": "2021-04-02T19:46:51.239953Z"
    },
    "tags": []
   },
   "outputs": [
    {
     "data": {
      "text/plain": [
       "('Util', 5.2155734935395515)"
      ]
     },
     "execution_count": 36,
     "metadata": {},
     "output_type": "execute_result"
    }
   ],
   "source": [
    "ercw = pd.Series(erk.weight_erc(rets, erk.sample_cov), rets.columns)\n",
    "ercw.idxmax(), ercw.max()*100"
   ]
  },
  {
   "cell_type": "code",
   "execution_count": 44,
   "id": "horizontal-crazy",
   "metadata": {
    "execution": {
     "iopub.execute_input": "2021-04-02T19:50:24.637179Z",
     "iopub.status.busy": "2021-04-02T19:50:24.637179Z",
     "iopub.status.idle": "2021-04-02T19:50:24.699688Z",
     "shell.execute_reply": "2021-04-02T19:50:24.699688Z",
     "shell.execute_reply.started": "2021-04-02T19:50:24.637179Z"
    },
    "tags": []
   },
   "outputs": [
    {
     "data": {
      "text/plain": [
       "('Steel', 1.2809105063119341)"
      ]
     },
     "execution_count": 44,
     "metadata": {},
     "output_type": "execute_result"
    }
   ],
   "source": [
    "ercw.idxmin(), ercw.min()*100"
   ]
  },
  {
   "cell_type": "code",
   "execution_count": 48,
   "id": "miniature-immigration",
   "metadata": {
    "execution": {
     "iopub.execute_input": "2021-04-02T19:51:10.378307Z",
     "iopub.status.busy": "2021-04-02T19:51:10.378307Z",
     "iopub.status.idle": "2021-04-02T19:51:10.440822Z",
     "shell.execute_reply": "2021-04-02T19:51:10.440822Z",
     "shell.execute_reply.started": "2021-04-02T19:51:10.378307Z"
    },
    "tags": []
   },
   "outputs": [
    {
     "data": {
      "text/plain": [
       "10.396449439816841"
      ]
     },
     "execution_count": 48,
     "metadata": {},
     "output_type": "execute_result"
    }
   ],
   "source": [
    "(cw_rc.max()-cw_rc.min())*100"
   ]
  },
  {
   "cell_type": "code",
   "execution_count": 49,
   "id": "engaging-christopher",
   "metadata": {
    "execution": {
     "iopub.execute_input": "2021-04-02T19:51:28.876031Z",
     "iopub.status.busy": "2021-04-02T19:51:28.876031Z",
     "iopub.status.idle": "2021-04-02T19:51:28.960647Z",
     "shell.execute_reply": "2021-04-02T19:51:28.960647Z",
     "shell.execute_reply.started": "2021-04-02T19:51:28.876031Z"
    }
   },
   "outputs": [
    {
     "data": {
      "text/plain": [
       "2.502175762491148"
      ]
     },
     "execution_count": 49,
     "metadata": {},
     "output_type": "execute_result"
    }
   ],
   "source": [
    "(ew_rc.max()-ew_rc.min())*100"
   ]
  },
  {
   "cell_type": "code",
   "execution_count": null,
   "id": "described-devil",
   "metadata": {},
   "outputs": [],
   "source": []
  }
 ],
 "metadata": {
  "kernelspec": {
   "display_name": "Python 3",
   "language": "python",
   "name": "python3"
  },
  "language_info": {
   "codemirror_mode": {
    "name": "ipython",
    "version": 3
   },
   "file_extension": ".py",
   "mimetype": "text/x-python",
   "name": "python",
   "nbconvert_exporter": "python",
   "pygments_lexer": "ipython3",
   "version": "3.8.5"
  }
 },
 "nbformat": 4,
 "nbformat_minor": 5
}
