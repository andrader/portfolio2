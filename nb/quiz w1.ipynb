{
 "cells": [
  {
   "cell_type": "code",
   "execution_count": 213,
   "id": "atlantic-nature",
   "metadata": {
    "execution": {
     "iopub.execute_input": "2021-03-31T21:49:18.783469Z",
     "iopub.status.busy": "2021-03-31T21:49:18.783469Z",
     "iopub.status.idle": "2021-03-31T21:49:18.973272Z",
     "shell.execute_reply": "2021-03-31T21:49:18.970656Z",
     "shell.execute_reply.started": "2021-03-31T21:49:18.783469Z"
    },
    "tags": []
   },
   "outputs": [
    {
     "name": "stdout",
     "output_type": "stream",
     "text": [
      "The autoreload extension is already loaded. To reload it, use:\n",
      "  %reload_ext autoreload\n"
     ]
    }
   ],
   "source": [
    "import numpy as np\n",
    "import pandas as pd\n",
    "\n",
    "import edhec_risk_kit_203 as erk\n",
    "\n",
    "%load_ext autoreload\n",
    "%autoreload 2\n"
   ]
  },
  {
   "cell_type": "code",
   "execution_count": 214,
   "id": "brave-ghana",
   "metadata": {
    "execution": {
     "iopub.execute_input": "2021-03-31T21:49:19.193358Z",
     "iopub.status.busy": "2021-03-31T21:49:19.193358Z",
     "iopub.status.idle": "2021-03-31T21:49:19.355301Z",
     "shell.execute_reply": "2021-03-31T21:49:19.353307Z",
     "shell.execute_reply.started": "2021-03-31T21:49:19.193358Z"
    },
    "tags": []
   },
   "outputs": [],
   "source": [
    "# 49 ind \n",
    "def get_ind_file(filetype, ew=False):\n",
    "    \"\"\"\n",
    "    Load and format the Ken French 49 Industry Portfolios files\n",
    "    \"\"\"\n",
    "    divisor = 1\n",
    "    if filetype == \"returns\":\n",
    "        filetype = \"ew_rets\" if ew else \"vw_rets\"\n",
    "        divisor = 100\n",
    "                         \n",
    "    ind = pd.read_csv(f\"data/ind49_m_{filetype}.csv\", header=0, index_col=0)/divisor\n",
    "    ind.index = pd.to_datetime(ind.index, format=\"%Y%m\").to_period('M')\n",
    "    ind.columns = ind.columns.str.strip()\n",
    "    return ind\n",
    "\n",
    "def get_ind_returns(ew=False):\n",
    "    \"\"\"\n",
    "    Load and format the Ken French 49 Industry Portfolios Value Weighted Monthly Returns\n",
    "    \"\"\"\n",
    "    return get_ind_file(\"returns\", ew=ew)\n",
    "\n",
    "def get_ind_nfirms():\n",
    "    \"\"\"\n",
    "    Load and format the Ken French 49 Industry Portfolios Average number of Firms\n",
    "    \"\"\"\n",
    "    return get_ind_file(\"nfirms\")"
   ]
  },
  {
   "cell_type": "code",
   "execution_count": 215,
   "id": "prime-chemistry",
   "metadata": {
    "execution": {
     "iopub.execute_input": "2021-03-31T21:49:19.783114Z",
     "iopub.status.busy": "2021-03-31T21:49:19.783114Z",
     "iopub.status.idle": "2021-03-31T21:49:20.104866Z",
     "shell.execute_reply": "2021-03-31T21:49:20.102872Z",
     "shell.execute_reply.started": "2021-03-31T21:49:19.783114Z"
    },
    "tags": []
   },
   "outputs": [],
   "source": [
    "rets = get_ind_returns()\n",
    "ff = erk.get_fff_returns()"
   ]
  },
  {
   "cell_type": "markdown",
   "id": "conscious-character",
   "metadata": {},
   "source": [
    "What is the CAPM (Single Factor) **Beta** \n",
    "when evaluated over the entire period (1991-2018) of Beer?"
   ]
  },
  {
   "cell_type": "code",
   "execution_count": 219,
   "id": "fifteen-matrix",
   "metadata": {
    "execution": {
     "iopub.execute_input": "2021-03-31T21:49:30.983820Z",
     "iopub.status.busy": "2021-03-31T21:49:30.983820Z",
     "iopub.status.idle": "2021-03-31T21:49:31.205166Z",
     "shell.execute_reply": "2021-03-31T21:49:31.203167Z",
     "shell.execute_reply.started": "2021-03-31T21:49:30.983820Z"
    },
    "tags": []
   },
   "outputs": [],
   "source": [
    "import statsmodels.api as sm"
   ]
  },
  {
   "cell_type": "code",
   "execution_count": 232,
   "id": "initial-private",
   "metadata": {
    "execution": {
     "iopub.execute_input": "2021-03-31T21:54:58.939163Z",
     "iopub.status.busy": "2021-03-31T21:54:58.938162Z",
     "iopub.status.idle": "2021-03-31T21:54:59.122249Z",
     "shell.execute_reply": "2021-03-31T21:54:59.121251Z",
     "shell.execute_reply.started": "2021-03-31T21:54:58.939163Z"
    },
    "tags": []
   },
   "outputs": [],
   "source": [
    "def capm(ind, t0=None, t1=None):\n",
    "    y = rets[[ind]][t0:t1] - ff[['RF']][t0:t1].values\n",
    "    x = sm.add_constant(ff[['Mkt-RF']][t0:t1])\n",
    "    return sm.OLS(y, x).fit()\n",
    "\n",
    "def famafrench(ind, t0=None, t1=None):\n",
    "    y = rets[[ind]][t0:t1] - ff[['RF']][t0:t1].values\n",
    "    x = sm.add_constant(ff[['Mkt-RF', 'SMB', 'HML']][t0:t1])\n",
    "    return sm.OLS(y, x).fit()\n",
    "\n",
    "def coefs(ind, fun, t0=None, t1=None, name=None):\n",
    "    m = fun(ind, t0, t1)\n",
    "    return m.params[name] if name else m.params\n"
   ]
  },
  {
   "cell_type": "code",
   "execution_count": 235,
   "id": "silver-linux",
   "metadata": {
    "execution": {
     "iopub.execute_input": "2021-03-31T21:55:40.013894Z",
     "iopub.status.busy": "2021-03-31T21:55:40.013894Z",
     "iopub.status.idle": "2021-03-31T21:55:40.245308Z",
     "shell.execute_reply": "2021-03-31T21:55:40.242974Z",
     "shell.execute_reply.started": "2021-03-31T21:55:40.013894Z"
    },
    "tags": []
   },
   "outputs": [
    {
     "data": {
      "text/plain": [
       "0.5295417263363025"
      ]
     },
     "execution_count": 235,
     "metadata": {},
     "output_type": "execute_result"
    }
   ],
   "source": [
    "coefs('Beer',capm,'1991', '2018','Mkt-RF')"
   ]
  },
  {
   "cell_type": "code",
   "execution_count": 236,
   "id": "unlike-moscow",
   "metadata": {
    "execution": {
     "iopub.execute_input": "2021-03-31T21:55:40.421973Z",
     "iopub.status.busy": "2021-03-31T21:55:40.420946Z",
     "iopub.status.idle": "2021-03-31T21:55:40.731780Z",
     "shell.execute_reply": "2021-03-31T21:55:40.726714Z",
     "shell.execute_reply.started": "2021-03-31T21:55:40.421973Z"
    },
    "tags": []
   },
   "outputs": [
    {
     "data": {
      "text/plain": [
       "1.5546095998085288"
      ]
     },
     "execution_count": 236,
     "metadata": {},
     "output_type": "execute_result"
    }
   ],
   "source": [
    "coefs('Steel',capm,'1991', '2018','Mkt-RF')"
   ]
  },
  {
   "cell_type": "code",
   "execution_count": 238,
   "id": "british-upset",
   "metadata": {
    "execution": {
     "iopub.execute_input": "2021-03-31T21:55:58.618290Z",
     "iopub.status.busy": "2021-03-31T21:55:58.618290Z",
     "iopub.status.idle": "2021-03-31T21:55:58.785581Z",
     "shell.execute_reply": "2021-03-31T21:55:58.783588Z",
     "shell.execute_reply.started": "2021-03-31T21:55:58.618290Z"
    },
    "tags": []
   },
   "outputs": [
    {
     "data": {
      "text/plain": [
       "0.585960389056597"
      ]
     },
     "execution_count": 238,
     "metadata": {},
     "output_type": "execute_result"
    }
   ],
   "source": [
    "coefs('Beer',capm,'2013', '2018','Mkt-RF')"
   ]
  },
  {
   "cell_type": "code",
   "execution_count": 239,
   "id": "eastern-providence",
   "metadata": {
    "execution": {
     "iopub.execute_input": "2021-03-31T21:56:16.858020Z",
     "iopub.status.busy": "2021-03-31T21:56:16.857023Z",
     "iopub.status.idle": "2021-03-31T21:56:17.090676Z",
     "shell.execute_reply": "2021-03-31T21:56:17.088681Z",
     "shell.execute_reply.started": "2021-03-31T21:56:16.858020Z"
    },
    "tags": []
   },
   "outputs": [
    {
     "data": {
      "text/plain": [
       "1.4169446523353806"
      ]
     },
     "execution_count": 239,
     "metadata": {},
     "output_type": "execute_result"
    }
   ],
   "source": [
    "coefs('Steel',capm,'2013', '2018','Mkt-RF')"
   ]
  },
  {
   "cell_type": "markdown",
   "id": "emerging-remains",
   "metadata": {},
   "source": [
    " which of the 49 industries had the highest CAPM Beta when evaluated over the 1991-1993 (both included) period?"
   ]
  },
  {
   "cell_type": "code",
   "execution_count": 246,
   "id": "positive-ontario",
   "metadata": {
    "execution": {
     "iopub.execute_input": "2021-03-31T21:57:53.998668Z",
     "iopub.status.busy": "2021-03-31T21:57:53.998668Z",
     "iopub.status.idle": "2021-03-31T21:57:54.847690Z",
     "shell.execute_reply": "2021-03-31T21:57:54.846385Z",
     "shell.execute_reply.started": "2021-03-31T21:57:53.998668Z"
    },
    "tags": []
   },
   "outputs": [
    {
     "data": {
      "text/html": [
       "<div>\n",
       "<style scoped>\n",
       "    .dataframe tbody tr th:only-of-type {\n",
       "        vertical-align: middle;\n",
       "    }\n",
       "\n",
       "    .dataframe tbody tr th {\n",
       "        vertical-align: top;\n",
       "    }\n",
       "\n",
       "    .dataframe thead th {\n",
       "        text-align: right;\n",
       "    }\n",
       "</style>\n",
       "<table border=\"1\" class=\"dataframe\">\n",
       "  <thead>\n",
       "    <tr style=\"text-align: right;\">\n",
       "      <th></th>\n",
       "      <th>const</th>\n",
       "      <th>Mkt-RF</th>\n",
       "    </tr>\n",
       "  </thead>\n",
       "  <tbody>\n",
       "    <tr>\n",
       "      <th>Agric</th>\n",
       "      <td>-0.002842</td>\n",
       "      <td>1.028381</td>\n",
       "    </tr>\n",
       "    <tr>\n",
       "      <th>Food</th>\n",
       "      <td>-0.008876</td>\n",
       "      <td>1.262609</td>\n",
       "    </tr>\n",
       "    <tr>\n",
       "      <th>Soda</th>\n",
       "      <td>-0.006793</td>\n",
       "      <td>1.319035</td>\n",
       "    </tr>\n",
       "    <tr>\n",
       "      <th>Beer</th>\n",
       "      <td>-0.000163</td>\n",
       "      <td>1.198078</td>\n",
       "    </tr>\n",
       "    <tr>\n",
       "      <th>Smoke</th>\n",
       "      <td>-0.018946</td>\n",
       "      <td>1.323776</td>\n",
       "    </tr>\n",
       "  </tbody>\n",
       "</table>\n",
       "</div>"
      ],
      "text/plain": [
       "          const    Mkt-RF\n",
       "Agric -0.002842  1.028381\n",
       "Food  -0.008876  1.262609\n",
       "Soda  -0.006793  1.319035\n",
       "Beer  -0.000163  1.198078\n",
       "Smoke -0.018946  1.323776"
      ]
     },
     "execution_count": 246,
     "metadata": {},
     "output_type": "execute_result"
    }
   ],
   "source": [
    "inds = rets.columns.to_series()\n",
    "betas = inds.apply(coefs, t0='1991', t1='1993', fun=capm)\n",
    "betas.head()"
   ]
  },
  {
   "cell_type": "code",
   "execution_count": 250,
   "id": "nearby-bronze",
   "metadata": {
    "execution": {
     "iopub.execute_input": "2021-03-31T21:59:11.252247Z",
     "iopub.status.busy": "2021-03-31T21:59:11.252247Z",
     "iopub.status.idle": "2021-03-31T21:59:11.468761Z",
     "shell.execute_reply": "2021-03-31T21:59:11.465769Z",
     "shell.execute_reply.started": "2021-03-31T21:59:11.252247Z"
    },
    "tags": []
   },
   "outputs": [
    {
     "data": {
      "text/plain": [
       "'Hlth'"
      ]
     },
     "execution_count": 250,
     "metadata": {},
     "output_type": "execute_result"
    }
   ],
   "source": [
    "# 5. highest CAPM Beta over the 1991-1993 (both included) period?\n",
    "betas['Mkt-RF'].idxmax()"
   ]
  },
  {
   "cell_type": "code",
   "execution_count": 252,
   "id": "liberal-cache",
   "metadata": {
    "execution": {
     "iopub.execute_input": "2021-03-31T22:00:20.900325Z",
     "iopub.status.busy": "2021-03-31T22:00:20.900325Z",
     "iopub.status.idle": "2021-03-31T22:00:21.067142Z",
     "shell.execute_reply": "2021-03-31T22:00:21.064945Z",
     "shell.execute_reply.started": "2021-03-31T22:00:20.900325Z"
    },
    "tags": []
   },
   "outputs": [
    {
     "data": {
      "text/plain": [
       "'Gold'"
      ]
     },
     "execution_count": 252,
     "metadata": {},
     "output_type": "execute_result"
    }
   ],
   "source": [
    "# 6. lowest  CAPM Beta over the 1991-1993 (both included) period?\n",
    "betas['Mkt-RF'].idxmin()"
   ]
  },
  {
   "cell_type": "markdown",
   "id": "respected-xerox",
   "metadata": {},
   "source": [
    "# 7, 8, 9, 10"
   ]
  },
  {
   "cell_type": "markdown",
   "id": "polish-oregon",
   "metadata": {},
   "source": [
    "7. highest Small Cap tilt when analyzed over the entire 1991-2018 period?"
   ]
  },
  {
   "cell_type": "code",
   "execution_count": 261,
   "id": "identified-sympathy",
   "metadata": {
    "execution": {
     "iopub.execute_input": "2021-03-31T22:06:41.511995Z",
     "iopub.status.busy": "2021-03-31T22:06:41.511995Z",
     "iopub.status.idle": "2021-03-31T22:06:42.421097Z",
     "shell.execute_reply": "2021-03-31T22:06:42.420100Z",
     "shell.execute_reply.started": "2021-03-31T22:06:41.511995Z"
    },
    "tags": []
   },
   "outputs": [
    {
     "data": {
      "text/plain": [
       "'FabPr'"
      ]
     },
     "execution_count": 261,
     "metadata": {},
     "output_type": "execute_result"
    }
   ],
   "source": [
    "fftilts = inds.apply(coefs, t0='1991', t1='2018',fun=famafrench)\n",
    "fftilts['SMB'].idxmax()"
   ]
  },
  {
   "cell_type": "markdown",
   "id": "ruled-shooting",
   "metadata": {},
   "source": [
    "8. highest Large Cap tilt when analyzed over the period as the previous? "
   ]
  },
  {
   "cell_type": "code",
   "execution_count": 258,
   "id": "biblical-durham",
   "metadata": {
    "execution": {
     "iopub.execute_input": "2021-03-31T22:04:33.569845Z",
     "iopub.status.busy": "2021-03-31T22:04:33.569845Z",
     "iopub.status.idle": "2021-03-31T22:04:33.744748Z",
     "shell.execute_reply": "2021-03-31T22:04:33.742753Z",
     "shell.execute_reply.started": "2021-03-31T22:04:33.569845Z"
    }
   },
   "outputs": [
    {
     "data": {
      "text/plain": [
       "'Beer'"
      ]
     },
     "execution_count": 258,
     "metadata": {},
     "output_type": "execute_result"
    }
   ],
   "source": [
    "fftilts['SMB'].idxmin()"
   ]
  },
  {
   "cell_type": "markdown",
   "id": "outer-action",
   "metadata": {},
   "source": [
    "9. highest Value tilt when analyzed over the entire period?    "
   ]
  },
  {
   "cell_type": "code",
   "execution_count": 259,
   "id": "developing-tattoo",
   "metadata": {
    "execution": {
     "iopub.execute_input": "2021-03-31T22:05:57.393080Z",
     "iopub.status.busy": "2021-03-31T22:05:57.392058Z",
     "iopub.status.idle": "2021-03-31T22:05:57.615532Z",
     "shell.execute_reply": "2021-03-31T22:05:57.615532Z",
     "shell.execute_reply.started": "2021-03-31T22:05:57.393080Z"
    }
   },
   "outputs": [
    {
     "data": {
      "text/plain": [
       "'Txtls'"
      ]
     },
     "execution_count": 259,
     "metadata": {},
     "output_type": "execute_result"
    }
   ],
   "source": [
    "fftilts['HML'].idxmax()"
   ]
  },
  {
   "cell_type": "markdown",
   "id": "animal-therapy",
   "metadata": {},
   "source": [
    "10. highest Growth tilt when analyzed over the entire period?    "
   ]
  },
  {
   "cell_type": "code",
   "execution_count": 260,
   "id": "obvious-girlfriend",
   "metadata": {
    "execution": {
     "iopub.execute_input": "2021-03-31T22:05:57.620343Z",
     "iopub.status.busy": "2021-03-31T22:05:57.620343Z",
     "iopub.status.idle": "2021-03-31T22:05:57.855070Z",
     "shell.execute_reply": "2021-03-31T22:05:57.853395Z",
     "shell.execute_reply.started": "2021-03-31T22:05:57.620343Z"
    }
   },
   "outputs": [
    {
     "data": {
      "text/plain": [
       "'Softw'"
      ]
     },
     "execution_count": 260,
     "metadata": {},
     "output_type": "execute_result"
    }
   ],
   "source": [
    "fftilts['HML'].idxmin()"
   ]
  },
  {
   "cell_type": "code",
   "execution_count": null,
   "id": "technical-masters",
   "metadata": {},
   "outputs": [],
   "source": []
  },
  {
   "cell_type": "code",
   "execution_count": 263,
   "id": "attended-survival",
   "metadata": {
    "execution": {
     "iopub.execute_input": "2021-03-31T22:51:18.822787Z",
     "iopub.status.busy": "2021-03-31T22:51:18.822787Z",
     "iopub.status.idle": "2021-03-31T22:51:19.223489Z",
     "shell.execute_reply": "2021-03-31T22:51:19.221496Z",
     "shell.execute_reply.started": "2021-03-31T22:51:18.822787Z"
    },
    "tags": []
   },
   "outputs": [],
   "source": [
    "#Load the \"ind49_m_vw_rets.csv\" file.\n",
    "fortynine = pd.read_csv(\"data/ind49_m_vw_rets.csv\", parse_dates=True, index_col=0)/100\n",
    "# Select the period from 1991 to 2018 inclusive.\n",
    "fortynine91to18=fortynine.loc[\"1991\":\"2019\"].reset_index(drop=True)\n",
    "# The Fama French data should have already been loaded if you run\n",
    "# the notebook \"lab_203\" from the beginning.\n",
    "# So, just go ahead and select the period.\n",
    "mkt_excess91to18 = fff.loc[\"1991\":\"2019\"].reset_index(drop=True)\n",
    "\n",
    "result = erk.regress(fortynine91to18, mkt_excess91to18)\n",
    "params=result.params\n",
    "params.columns=fortynine91to18.columns"
   ]
  },
  {
   "cell_type": "code",
   "execution_count": 265,
   "id": "regulated-sunglasses",
   "metadata": {
    "execution": {
     "iopub.execute_input": "2021-03-31T22:51:42.688725Z",
     "iopub.status.busy": "2021-03-31T22:51:42.687760Z",
     "iopub.status.idle": "2021-03-31T22:51:42.921849Z",
     "shell.execute_reply": "2021-03-31T22:51:42.919851Z",
     "shell.execute_reply.started": "2021-03-31T22:51:42.688725Z"
    },
    "tags": []
   },
   "outputs": [
    {
     "data": {
      "text/html": [
       "<div>\n",
       "<style scoped>\n",
       "    .dataframe tbody tr th:only-of-type {\n",
       "        vertical-align: middle;\n",
       "    }\n",
       "\n",
       "    .dataframe tbody tr th {\n",
       "        vertical-align: top;\n",
       "    }\n",
       "\n",
       "    .dataframe thead th {\n",
       "        text-align: right;\n",
       "    }\n",
       "</style>\n",
       "<table border=\"1\" class=\"dataframe\">\n",
       "  <thead>\n",
       "    <tr style=\"text-align: right;\">\n",
       "      <th></th>\n",
       "      <th>Mkt-RF</th>\n",
       "      <th>SMB</th>\n",
       "      <th>HML</th>\n",
       "      <th>RF</th>\n",
       "      <th>Alpha</th>\n",
       "    </tr>\n",
       "  </thead>\n",
       "  <tbody>\n",
       "    <tr>\n",
       "      <th>FabPr</th>\n",
       "      <td>1.047132</td>\n",
       "      <td>0.686027</td>\n",
       "      <td>0.496060</td>\n",
       "      <td>-0.356768</td>\n",
       "      <td>-0.001487</td>\n",
       "    </tr>\n",
       "    <tr>\n",
       "      <th>RlEst</th>\n",
       "      <td>1.150799</td>\n",
       "      <td>0.680132</td>\n",
       "      <td>0.912121</td>\n",
       "      <td>-3.006597</td>\n",
       "      <td>0.001763</td>\n",
       "    </tr>\n",
       "    <tr>\n",
       "      <th>Coal</th>\n",
       "      <td>1.110073</td>\n",
       "      <td>0.544504</td>\n",
       "      <td>0.476809</td>\n",
       "      <td>6.541754</td>\n",
       "      <td>-0.012814</td>\n",
       "    </tr>\n",
       "    <tr>\n",
       "      <th>Txtls</th>\n",
       "      <td>1.236776</td>\n",
       "      <td>0.529438</td>\n",
       "      <td>0.997089</td>\n",
       "      <td>-2.568338</td>\n",
       "      <td>0.002357</td>\n",
       "    </tr>\n",
       "    <tr>\n",
       "      <th>Steel</th>\n",
       "      <td>1.509318</td>\n",
       "      <td>0.494700</td>\n",
       "      <td>0.315190</td>\n",
       "      <td>1.760300</td>\n",
       "      <td>-0.008361</td>\n",
       "    </tr>\n",
       "    <tr>\n",
       "      <th>LabEq</th>\n",
       "      <td>1.177370</td>\n",
       "      <td>0.465954</td>\n",
       "      <td>-0.262712</td>\n",
       "      <td>1.424596</td>\n",
       "      <td>0.000206</td>\n",
       "    </tr>\n",
       "    <tr>\n",
       "      <th>Rubbr</th>\n",
       "      <td>0.982567</td>\n",
       "      <td>0.445960</td>\n",
       "      <td>0.471812</td>\n",
       "      <td>-0.287894</td>\n",
       "      <td>0.002465</td>\n",
       "    </tr>\n",
       "    <tr>\n",
       "      <th>Cnstr</th>\n",
       "      <td>1.191184</td>\n",
       "      <td>0.407341</td>\n",
       "      <td>0.611075</td>\n",
       "      <td>0.138247</td>\n",
       "      <td>-0.001242</td>\n",
       "    </tr>\n",
       "    <tr>\n",
       "      <th>Mach</th>\n",
       "      <td>1.280647</td>\n",
       "      <td>0.351694</td>\n",
       "      <td>0.306406</td>\n",
       "      <td>-0.066830</td>\n",
       "      <td>0.000598</td>\n",
       "    </tr>\n",
       "    <tr>\n",
       "      <th>Toys</th>\n",
       "      <td>0.940096</td>\n",
       "      <td>0.326875</td>\n",
       "      <td>0.429956</td>\n",
       "      <td>-0.633803</td>\n",
       "      <td>0.000231</td>\n",
       "    </tr>\n",
       "    <tr>\n",
       "      <th>Chips</th>\n",
       "      <td>1.394102</td>\n",
       "      <td>0.322006</td>\n",
       "      <td>-0.604432</td>\n",
       "      <td>2.132353</td>\n",
       "      <td>-0.000418</td>\n",
       "    </tr>\n",
       "    <tr>\n",
       "      <th>Gold</th>\n",
       "      <td>0.324237</td>\n",
       "      <td>0.284563</td>\n",
       "      <td>0.132734</td>\n",
       "      <td>-1.478572</td>\n",
       "      <td>0.006041</td>\n",
       "    </tr>\n",
       "    <tr>\n",
       "      <th>Fun</th>\n",
       "      <td>1.326929</td>\n",
       "      <td>0.277620</td>\n",
       "      <td>0.319024</td>\n",
       "      <td>-1.249128</td>\n",
       "      <td>0.004807</td>\n",
       "    </tr>\n",
       "    <tr>\n",
       "      <th>PerSv</th>\n",
       "      <td>0.874624</td>\n",
       "      <td>0.272820</td>\n",
       "      <td>0.357309</td>\n",
       "      <td>0.819572</td>\n",
       "      <td>-0.001595</td>\n",
       "    </tr>\n",
       "    <tr>\n",
       "      <th>Mines</th>\n",
       "      <td>1.159965</td>\n",
       "      <td>0.267351</td>\n",
       "      <td>0.566736</td>\n",
       "      <td>0.719041</td>\n",
       "      <td>-0.000741</td>\n",
       "    </tr>\n",
       "    <tr>\n",
       "      <th>Whlsl</th>\n",
       "      <td>0.863837</td>\n",
       "      <td>0.264613</td>\n",
       "      <td>0.288428</td>\n",
       "      <td>0.515556</td>\n",
       "      <td>-0.000010</td>\n",
       "    </tr>\n",
       "    <tr>\n",
       "      <th>Hlth</th>\n",
       "      <td>0.796755</td>\n",
       "      <td>0.233271</td>\n",
       "      <td>0.491145</td>\n",
       "      <td>0.232708</td>\n",
       "      <td>0.000806</td>\n",
       "    </tr>\n",
       "    <tr>\n",
       "      <th>Autos</th>\n",
       "      <td>1.329944</td>\n",
       "      <td>0.203058</td>\n",
       "      <td>0.803970</td>\n",
       "      <td>-0.787205</td>\n",
       "      <td>-0.001335</td>\n",
       "    </tr>\n",
       "    <tr>\n",
       "      <th>Hardw</th>\n",
       "      <td>1.334550</td>\n",
       "      <td>0.201481</td>\n",
       "      <td>-0.698151</td>\n",
       "      <td>3.039792</td>\n",
       "      <td>-0.002832</td>\n",
       "    </tr>\n",
       "    <tr>\n",
       "      <th>BusSv</th>\n",
       "      <td>1.023210</td>\n",
       "      <td>0.199746</td>\n",
       "      <td>-0.022576</td>\n",
       "      <td>0.646151</td>\n",
       "      <td>0.000628</td>\n",
       "    </tr>\n",
       "    <tr>\n",
       "      <th>BldMt</th>\n",
       "      <td>1.179027</td>\n",
       "      <td>0.191084</td>\n",
       "      <td>0.616827</td>\n",
       "      <td>-1.152920</td>\n",
       "      <td>0.002384</td>\n",
       "    </tr>\n",
       "    <tr>\n",
       "      <th>Agric</th>\n",
       "      <td>0.684098</td>\n",
       "      <td>0.169167</td>\n",
       "      <td>0.125031</td>\n",
       "      <td>2.811016</td>\n",
       "      <td>-0.000958</td>\n",
       "    </tr>\n",
       "    <tr>\n",
       "      <th>Ships</th>\n",
       "      <td>1.142865</td>\n",
       "      <td>0.162210</td>\n",
       "      <td>0.783453</td>\n",
       "      <td>-1.705479</td>\n",
       "      <td>0.007134</td>\n",
       "    </tr>\n",
       "    <tr>\n",
       "      <th>Books</th>\n",
       "      <td>1.025734</td>\n",
       "      <td>0.136054</td>\n",
       "      <td>0.437935</td>\n",
       "      <td>0.468057</td>\n",
       "      <td>-0.002542</td>\n",
       "    </tr>\n",
       "    <tr>\n",
       "      <th>MedEq</th>\n",
       "      <td>0.789264</td>\n",
       "      <td>0.126932</td>\n",
       "      <td>-0.048220</td>\n",
       "      <td>1.686957</td>\n",
       "      <td>0.001872</td>\n",
       "    </tr>\n",
       "    <tr>\n",
       "      <th>Fin</th>\n",
       "      <td>1.412665</td>\n",
       "      <td>0.125926</td>\n",
       "      <td>0.230973</td>\n",
       "      <td>3.198761</td>\n",
       "      <td>-0.004381</td>\n",
       "    </tr>\n",
       "    <tr>\n",
       "      <th>Softw</th>\n",
       "      <td>1.254624</td>\n",
       "      <td>0.071591</td>\n",
       "      <td>-0.863809</td>\n",
       "      <td>4.003293</td>\n",
       "      <td>-0.001481</td>\n",
       "    </tr>\n",
       "    <tr>\n",
       "      <th>Clths</th>\n",
       "      <td>1.011654</td>\n",
       "      <td>0.055193</td>\n",
       "      <td>0.350187</td>\n",
       "      <td>-0.237398</td>\n",
       "      <td>0.003678</td>\n",
       "    </tr>\n",
       "    <tr>\n",
       "      <th>Trans</th>\n",
       "      <td>0.974143</td>\n",
       "      <td>0.028805</td>\n",
       "      <td>0.436789</td>\n",
       "      <td>-0.205789</td>\n",
       "      <td>0.002614</td>\n",
       "    </tr>\n",
       "    <tr>\n",
       "      <th>Boxes</th>\n",
       "      <td>1.022107</td>\n",
       "      <td>-0.003872</td>\n",
       "      <td>0.290197</td>\n",
       "      <td>-0.801835</td>\n",
       "      <td>0.003340</td>\n",
       "    </tr>\n",
       "    <tr>\n",
       "      <th>Guns</th>\n",
       "      <td>0.566134</td>\n",
       "      <td>-0.008587</td>\n",
       "      <td>0.594600</td>\n",
       "      <td>0.135589</td>\n",
       "      <td>0.006959</td>\n",
       "    </tr>\n",
       "    <tr>\n",
       "      <th>Oil</th>\n",
       "      <td>0.810738</td>\n",
       "      <td>-0.013764</td>\n",
       "      <td>0.418279</td>\n",
       "      <td>1.903633</td>\n",
       "      <td>-0.001996</td>\n",
       "    </tr>\n",
       "    <tr>\n",
       "      <th>Other</th>\n",
       "      <td>1.088558</td>\n",
       "      <td>-0.021052</td>\n",
       "      <td>0.286757</td>\n",
       "      <td>0.043745</td>\n",
       "      <td>-0.004355</td>\n",
       "    </tr>\n",
       "    <tr>\n",
       "      <th>ElcEq</th>\n",
       "      <td>1.263572</td>\n",
       "      <td>-0.021732</td>\n",
       "      <td>0.127255</td>\n",
       "      <td>2.268205</td>\n",
       "      <td>-0.001974</td>\n",
       "    </tr>\n",
       "    <tr>\n",
       "      <th>Chems</th>\n",
       "      <td>1.085386</td>\n",
       "      <td>-0.026942</td>\n",
       "      <td>0.465054</td>\n",
       "      <td>-0.526211</td>\n",
       "      <td>0.002633</td>\n",
       "    </tr>\n",
       "    <tr>\n",
       "      <th>Paper</th>\n",
       "      <td>0.925866</td>\n",
       "      <td>-0.032529</td>\n",
       "      <td>0.471804</td>\n",
       "      <td>-0.500460</td>\n",
       "      <td>0.002216</td>\n",
       "    </tr>\n",
       "    <tr>\n",
       "      <th>Rtail</th>\n",
       "      <td>0.898526</td>\n",
       "      <td>-0.042058</td>\n",
       "      <td>0.023872</td>\n",
       "      <td>0.451585</td>\n",
       "      <td>0.003590</td>\n",
       "    </tr>\n",
       "    <tr>\n",
       "      <th>Meals</th>\n",
       "      <td>0.781598</td>\n",
       "      <td>-0.098343</td>\n",
       "      <td>0.267388</td>\n",
       "      <td>-1.007585</td>\n",
       "      <td>0.007484</td>\n",
       "    </tr>\n",
       "    <tr>\n",
       "      <th>Soda</th>\n",
       "      <td>0.817413</td>\n",
       "      <td>-0.124245</td>\n",
       "      <td>0.403153</td>\n",
       "      <td>-0.453412</td>\n",
       "      <td>0.006394</td>\n",
       "    </tr>\n",
       "    <tr>\n",
       "      <th>Aero</th>\n",
       "      <td>1.061990</td>\n",
       "      <td>-0.142805</td>\n",
       "      <td>0.432255</td>\n",
       "      <td>0.345108</td>\n",
       "      <td>0.003968</td>\n",
       "    </tr>\n",
       "    <tr>\n",
       "      <th>Hshld</th>\n",
       "      <td>0.646216</td>\n",
       "      <td>-0.171183</td>\n",
       "      <td>0.125972</td>\n",
       "      <td>0.969140</td>\n",
       "      <td>0.002446</td>\n",
       "    </tr>\n",
       "    <tr>\n",
       "      <th>Util</th>\n",
       "      <td>0.442969</td>\n",
       "      <td>-0.176861</td>\n",
       "      <td>0.294175</td>\n",
       "      <td>1.036041</td>\n",
       "      <td>0.002745</td>\n",
       "    </tr>\n",
       "    <tr>\n",
       "      <th>Banks</th>\n",
       "      <td>1.200520</td>\n",
       "      <td>-0.186368</td>\n",
       "      <td>0.835839</td>\n",
       "      <td>1.911458</td>\n",
       "      <td>-0.003004</td>\n",
       "    </tr>\n",
       "    <tr>\n",
       "      <th>Telcm</th>\n",
       "      <td>0.974508</td>\n",
       "      <td>-0.195395</td>\n",
       "      <td>-0.048573</td>\n",
       "      <td>0.364247</td>\n",
       "      <td>0.000510</td>\n",
       "    </tr>\n",
       "    <tr>\n",
       "      <th>Insur</th>\n",
       "      <td>1.026931</td>\n",
       "      <td>-0.252436</td>\n",
       "      <td>0.572000</td>\n",
       "      <td>0.569882</td>\n",
       "      <td>0.001562</td>\n",
       "    </tr>\n",
       "    <tr>\n",
       "      <th>Food</th>\n",
       "      <td>0.558160</td>\n",
       "      <td>-0.268338</td>\n",
       "      <td>0.157499</td>\n",
       "      <td>0.746122</td>\n",
       "      <td>0.003022</td>\n",
       "    </tr>\n",
       "    <tr>\n",
       "      <th>Smoke</th>\n",
       "      <td>0.590913</td>\n",
       "      <td>-0.309117</td>\n",
       "      <td>0.268762</td>\n",
       "      <td>0.276379</td>\n",
       "      <td>0.006238</td>\n",
       "    </tr>\n",
       "    <tr>\n",
       "      <th>Drugs</th>\n",
       "      <td>0.715707</td>\n",
       "      <td>-0.316796</td>\n",
       "      <td>-0.233712</td>\n",
       "      <td>2.471774</td>\n",
       "      <td>0.001010</td>\n",
       "    </tr>\n",
       "    <tr>\n",
       "      <th>Beer</th>\n",
       "      <td>0.590235</td>\n",
       "      <td>-0.358381</td>\n",
       "      <td>0.005761</td>\n",
       "      <td>1.149995</td>\n",
       "      <td>0.004178</td>\n",
       "    </tr>\n",
       "  </tbody>\n",
       "</table>\n",
       "</div>"
      ],
      "text/plain": [
       "         Mkt-RF       SMB       HML        RF     Alpha\n",
       "FabPr  1.047132  0.686027  0.496060 -0.356768 -0.001487\n",
       "RlEst  1.150799  0.680132  0.912121 -3.006597  0.001763\n",
       "Coal   1.110073  0.544504  0.476809  6.541754 -0.012814\n",
       "Txtls  1.236776  0.529438  0.997089 -2.568338  0.002357\n",
       "Steel  1.509318  0.494700  0.315190  1.760300 -0.008361\n",
       "LabEq  1.177370  0.465954 -0.262712  1.424596  0.000206\n",
       "Rubbr  0.982567  0.445960  0.471812 -0.287894  0.002465\n",
       "Cnstr  1.191184  0.407341  0.611075  0.138247 -0.001242\n",
       "Mach   1.280647  0.351694  0.306406 -0.066830  0.000598\n",
       "Toys   0.940096  0.326875  0.429956 -0.633803  0.000231\n",
       "Chips  1.394102  0.322006 -0.604432  2.132353 -0.000418\n",
       "Gold   0.324237  0.284563  0.132734 -1.478572  0.006041\n",
       "Fun    1.326929  0.277620  0.319024 -1.249128  0.004807\n",
       "PerSv  0.874624  0.272820  0.357309  0.819572 -0.001595\n",
       "Mines  1.159965  0.267351  0.566736  0.719041 -0.000741\n",
       "Whlsl  0.863837  0.264613  0.288428  0.515556 -0.000010\n",
       "Hlth   0.796755  0.233271  0.491145  0.232708  0.000806\n",
       "Autos  1.329944  0.203058  0.803970 -0.787205 -0.001335\n",
       "Hardw  1.334550  0.201481 -0.698151  3.039792 -0.002832\n",
       "BusSv  1.023210  0.199746 -0.022576  0.646151  0.000628\n",
       "BldMt  1.179027  0.191084  0.616827 -1.152920  0.002384\n",
       "Agric  0.684098  0.169167  0.125031  2.811016 -0.000958\n",
       "Ships  1.142865  0.162210  0.783453 -1.705479  0.007134\n",
       "Books  1.025734  0.136054  0.437935  0.468057 -0.002542\n",
       "MedEq  0.789264  0.126932 -0.048220  1.686957  0.001872\n",
       "Fin    1.412665  0.125926  0.230973  3.198761 -0.004381\n",
       "Softw  1.254624  0.071591 -0.863809  4.003293 -0.001481\n",
       "Clths  1.011654  0.055193  0.350187 -0.237398  0.003678\n",
       "Trans  0.974143  0.028805  0.436789 -0.205789  0.002614\n",
       "Boxes  1.022107 -0.003872  0.290197 -0.801835  0.003340\n",
       "Guns   0.566134 -0.008587  0.594600  0.135589  0.006959\n",
       "Oil    0.810738 -0.013764  0.418279  1.903633 -0.001996\n",
       "Other  1.088558 -0.021052  0.286757  0.043745 -0.004355\n",
       "ElcEq  1.263572 -0.021732  0.127255  2.268205 -0.001974\n",
       "Chems  1.085386 -0.026942  0.465054 -0.526211  0.002633\n",
       "Paper  0.925866 -0.032529  0.471804 -0.500460  0.002216\n",
       "Rtail  0.898526 -0.042058  0.023872  0.451585  0.003590\n",
       "Meals  0.781598 -0.098343  0.267388 -1.007585  0.007484\n",
       "Soda   0.817413 -0.124245  0.403153 -0.453412  0.006394\n",
       "Aero   1.061990 -0.142805  0.432255  0.345108  0.003968\n",
       "Hshld  0.646216 -0.171183  0.125972  0.969140  0.002446\n",
       "Util   0.442969 -0.176861  0.294175  1.036041  0.002745\n",
       "Banks  1.200520 -0.186368  0.835839  1.911458 -0.003004\n",
       "Telcm  0.974508 -0.195395 -0.048573  0.364247  0.000510\n",
       "Insur  1.026931 -0.252436  0.572000  0.569882  0.001562\n",
       "Food   0.558160 -0.268338  0.157499  0.746122  0.003022\n",
       "Smoke  0.590913 -0.309117  0.268762  0.276379  0.006238\n",
       "Drugs  0.715707 -0.316796 -0.233712  2.471774  0.001010\n",
       "Beer   0.590235 -0.358381  0.005761  1.149995  0.004178"
      ]
     },
     "execution_count": 265,
     "metadata": {},
     "output_type": "execute_result"
    }
   ],
   "source": [
    "params.T.sort_values(by=\"SMB\",ascending=False)"
   ]
  },
  {
   "cell_type": "code",
   "execution_count": null,
   "id": "great-reynolds",
   "metadata": {},
   "outputs": [],
   "source": []
  }
 ],
 "metadata": {
  "kernelspec": {
   "display_name": "Python 3",
   "language": "python",
   "name": "python3"
  },
  "language_info": {
   "codemirror_mode": {
    "name": "ipython",
    "version": 3
   },
   "file_extension": ".py",
   "mimetype": "text/x-python",
   "name": "python",
   "nbconvert_exporter": "python",
   "pygments_lexer": "ipython3",
   "version": "3.8.5"
  }
 },
 "nbformat": 4,
 "nbformat_minor": 5
}
