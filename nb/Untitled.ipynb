{
 "cells": [
  {
   "cell_type": "code",
   "execution_count": 1,
   "id": "painted-reflection",
   "metadata": {
    "execution": {
     "iopub.execute_input": "2021-04-02T21:01:02.311988Z",
     "iopub.status.busy": "2021-04-02T21:01:02.311988Z",
     "iopub.status.idle": "2021-04-02T21:01:02.756677Z",
     "shell.execute_reply": "2021-04-02T21:01:02.756677Z",
     "shell.execute_reply.started": "2021-04-02T21:01:02.311988Z"
    }
   },
   "outputs": [],
   "source": [
    "import pandas as pd\n",
    "import numpy as np"
   ]
  },
  {
   "cell_type": "code",
   "execution_count": 88,
   "id": "experienced-papua",
   "metadata": {
    "execution": {
     "iopub.execute_input": "2021-04-03T00:04:05.039826Z",
     "iopub.status.busy": "2021-04-03T00:04:05.039826Z",
     "iopub.status.idle": "2021-04-03T00:04:05.124168Z",
     "shell.execute_reply": "2021-04-03T00:04:05.124168Z",
     "shell.execute_reply.started": "2021-04-03T00:04:05.039826Z"
    },
    "tags": []
   },
   "outputs": [
    {
     "name": "stdout",
     "output_type": "stream",
     "text": [
      "The autoreload extension is already loaded. To reload it, use:\n",
      "  %reload_ext autoreload\n"
     ]
    }
   ],
   "source": [
    "%config Completer.use_jedi=False\n",
    "import numpy as np\n",
    "import pandas as pd\n",
    "\n",
    "import edhec_risk_kit_206 as erk\n",
    "\n",
    "%load_ext autoreload\n",
    "%autoreload 2\n",
    "\n",
    "pd.options.display.float_format = '{:.2%}'.format"
   ]
  }
 ],
 "metadata": {
  "kernelspec": {
   "display_name": "Python 3",
   "language": "python",
   "name": "python3"
  },
  "language_info": {
   "codemirror_mode": {
    "name": "ipython",
    "version": 3
   },
   "file_extension": ".py",
   "mimetype": "text/x-python",
   "name": "python",
   "nbconvert_exporter": "python",
   "pygments_lexer": "ipython3",
   "version": "3.8.5"
  }
 },
 "nbformat": 4,
 "nbformat_minor": 5
}
