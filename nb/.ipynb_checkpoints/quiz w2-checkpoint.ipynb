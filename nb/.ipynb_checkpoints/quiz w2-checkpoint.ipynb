{
 "cells": [
  {
   "cell_type": "code",
   "execution_count": 3,
   "id": "increased-conditions",
   "metadata": {
    "execution": {
     "iopub.execute_input": "2021-04-01T12:30:12.206472Z",
     "iopub.status.busy": "2021-04-01T12:30:12.206472Z",
     "iopub.status.idle": "2021-04-01T12:30:12.275472Z",
     "shell.execute_reply": "2021-04-01T12:30:12.275472Z",
     "shell.execute_reply.started": "2021-04-01T12:30:12.206472Z"
    },
    "tags": []
   },
   "outputs": [
    {
     "name": "stdout",
     "output_type": "stream",
     "text": [
      "The autoreload extension is already loaded. To reload it, use:\n",
      "  %reload_ext autoreload\n"
     ]
    }
   ],
   "source": [
    "import numpy as np\n",
    "import pandas as pd\n",
    "\n",
    "import edhec_risk_kit_205 as erk\n",
    "\n",
    "%load_ext autoreload\n",
    "%autoreload 2"
   ]
  },
  {
   "cell_type": "markdown",
   "id": "moral-passion",
   "metadata": {},
   "source": [
    "1.\n",
    "Pergunta 1\n",
    "Load the 30 Value Weighted industry portfolio returns. Limit the analysis to returns of the 30 VW portfolios from 1997 onwards (1997 included, 1996 not included, 2018 included). Also load the Market Caps of each of the 30 industries. Run a backtest of comparing a CapWeighted vs an EW portfolio over the period. Though these two weighting schemes do not need any estimation, use an estimation period of 36 months so that we can compare it in the next few questions. \n",
    "Hint: If you want to use the supplied code, import the final version of the backtester in file edhec_risk_kit_206 using:\n",
    "\n",
    "import edhec_risk_kit_206 as erk\n",
    "\n",
    "Remember that to load the  Value Weighted series you should use  erk.get_ind_returns(weighting=\"vw\", ...)\n",
    "and then use erk.backtest_ws(rets, estimation_window=36, weighting=...) The first month for which you have backtested returns should be 2000-01 and the last month should be 2018-12\n",
    "What was the annualized return over period for the Cap Weighted Industry Portfolio?\n",
    "\n",
    "Enter the answer as a percentage  (e.g. for a return of 5.67% enter 5.67)\n",
    "1 ponto"
   ]
  },
  {
   "cell_type": "code",
   "execution_count": null,
   "id": "intermediate-milton",
   "metadata": {},
   "outputs": [],
   "source": [
    "rets = erk.get_ind_returns(weighting='vw',n_inds=30)"
   ]
  },
  {
   "cell_type": "markdown",
   "id": "ready-single",
   "metadata": {},
   "source": [
    "2.\n",
    "Pergunta 2\n",
    "Use the same data and period as the previous question.\n",
    "What was the annualized volatility over the period for the Cap Weighted Industry Portfolio?\n",
    "\n",
    "Enter the answer as a percentage  (e.g. for a vol of 25.67% enter 25.67)\n",
    "1 ponto"
   ]
  },
  {
   "cell_type": "markdown",
   "id": "streaming-economy",
   "metadata": {},
   "source": [
    "3.\n",
    "Pergunta 3\n",
    "Use the same data and period as the previous question.\n",
    "What was the annualized return over period for the Equal Weighted Industry Portfolio?\n",
    "\n",
    "Enter the answer as a percentage  (e.g. for a return of 5.67% enter 5.67)\n",
    "1 ponto"
   ]
  },
  {
   "cell_type": "markdown",
   "id": "different-karaoke",
   "metadata": {},
   "source": [
    "4.\n",
    "Pergunta 4\n",
    "Use the same data and period as the previous question.\n",
    "What was the annualized volatility over the period for the Equal Weighted Industry Portfolio? \n",
    "\n",
    "Enter the answer as a percentage  (e.g. for a vol of 15.67% enter 15.67)\n",
    "1 ponto"
   ]
  },
  {
   "cell_type": "markdown",
   "id": "potential-consciousness",
   "metadata": {},
   "source": [
    "5.\n",
    "Pergunta 5\n",
    "Now using the same data and same period, re-run the EW backtest but this time create a tethered EW portfolio by removing Microcap industries using a threshold of 1% and a max cap-weight multiple of 2X\n",
    "What was the annualized return over the period for the tethered Equal Weighted Industry Portfolio?\n",
    "\n",
    "Enter the answer as a percentage  (e.g. for a return of 5.67% enter 5.67)\n",
    "1 ponto"
   ]
  },
  {
   "cell_type": "markdown",
   "id": "innocent-rocket",
   "metadata": {},
   "source": [
    "6.\n",
    "Pergunta 6\n",
    "Use the same tethered EW portfolio (by removing Microcap industries using a threshold of 1% and a max cap-weight multiple of 2X) as in the previous question.\n",
    "What was the annualized volatility over the period for the tethered Equal Weighted Industry Portfolio? \n",
    "\n",
    "Enter the answer as a percentage  (e.g. for a vol of 5.67% enter 5.67)\n",
    "1 ponto"
   ]
  },
  {
   "cell_type": "markdown",
   "id": "specialized-wings",
   "metadata": {},
   "source": [
    "7.\n",
    "Pergunta 7\n",
    "What was Tracking Error between the Pure EW (without any tethering) portfolio and the CW portfolio?\n",
    "\n",
    "Enter the answer as a percentage  (e.g. for a Tracking Error of 5.67% enter 5.67)\n",
    "1 ponto"
   ]
  },
  {
   "cell_type": "markdown",
   "id": "featured-operations",
   "metadata": {},
   "source": [
    "8.\n",
    "Pergunta 8\n",
    "Now consider the Tethered EW portfolio you previously created (by removing Microcap industries using a threshold of 1% and a max cap-weight multiple of 2X)\n",
    "What was Tracking Error between the Tethered EW portfolio and the CW portfolio?\n",
    "\n",
    "Enter the answer as a percentage  (e.g. for a Tracking Error of 5.67% enter 5.67)\n",
    "1 ponto"
   ]
  },
  {
   "cell_type": "markdown",
   "id": "realistic-consent",
   "metadata": {},
   "source": [
    "9.\n",
    "Pergunta 9\n",
    "Run a backtest for the same period (1997 onwards i.e. 1997 included, 1996 not included, 2018 included), using an estimation window of 36 months as above, to build the Global Minimum Variance Portfolio by estimating the Covariance matrix using Sample Covariance. (This might take a minute or so to run depending on your computer power!) \n",
    "What was the annualized return over the period for the GMV Portfolio?\n",
    "\n",
    "Enter the answer as a percentage  (e.g. for a return of 5.67% enter 5.67)\n",
    "1 ponto"
   ]
  },
  {
   "cell_type": "markdown",
   "id": "funny-template",
   "metadata": {},
   "source": [
    "10.\n",
    "Pergunta 10\n",
    "Use the same GMV portfolio as the previous question. What was the annualized volatility over the period for the GMV Portfolio?\n",
    "\n",
    "Enter the answer as a percentage  (e.g. for a vol of 5.67% enter 5.67)\n",
    "1 ponto"
   ]
  },
  {
   "cell_type": "markdown",
   "id": "insured-casino",
   "metadata": {},
   "source": [
    "11.\n",
    "Pergunta 11\n",
    "Run a backtest for the same period as the previous question, and again using an estimation window of 36 months as above, to build the Global Minimum Variance Portfolio but this time, estimating the Covariance matrix using Shrinkage between the Constant Correlation and Sample Covariance estimates using a delta of 0.25. (This might take a minute or so to run depending on your computer power!)\n",
    "What was the annualized return over the period for this new Shrinkage-GMV Portfolio?\n",
    "\n",
    "Enter the answer as a percentage  (e.g. for a return of 5.67% enter 5.67)\n",
    "1 ponto"
   ]
  },
  {
   "cell_type": "markdown",
   "id": "answering-madness",
   "metadata": {},
   "source": [
    "12.\n",
    "Pergunta 12\n",
    "Using the same Shrinkage-GMV portfolio return series you used in the previous question, what was the annualized volatility over the period for the Shrinkage-GMV Portfolio?\n",
    "\n",
    "Enter the answer as a percentage  (e.g. for a vol of 5.67% enter 5.67)"
   ]
  },
  {
   "cell_type": "code",
   "execution_count": null,
   "id": "indirect-juvenile",
   "metadata": {},
   "outputs": [],
   "source": []
  }
 ],
 "metadata": {
  "kernelspec": {
   "display_name": "Python 3",
   "language": "python",
   "name": "python3"
  },
  "language_info": {
   "codemirror_mode": {
    "name": "ipython",
    "version": 3
   },
   "file_extension": ".py",
   "mimetype": "text/x-python",
   "name": "python",
   "nbconvert_exporter": "python",
   "pygments_lexer": "ipython3",
   "version": "3.8.5"
  }
 },
 "nbformat": 4,
 "nbformat_minor": 5
}
