{
 "cells": [
  {
   "cell_type": "code",
   "execution_count": 1,
   "metadata": {},
   "outputs": [],
   "source": [
    "import numpy as np\n",
    "import pandas as pd\n",
    "\n",
    "import edhec_risk_kit_206 as erk\n",
    "\n",
    "%load_ext autoreload\n",
    "%autoreload 2"
   ]
  },
  {
   "cell_type": "code",
   "execution_count": 35,
   "metadata": {},
   "outputs": [
    {
     "data": {
      "text/html": [
       "<div>\n",
       "<style scoped>\n",
       "    .dataframe tbody tr th:only-of-type {\n",
       "        vertical-align: middle;\n",
       "    }\n",
       "\n",
       "    .dataframe tbody tr th {\n",
       "        vertical-align: top;\n",
       "    }\n",
       "\n",
       "    .dataframe thead th {\n",
       "        text-align: right;\n",
       "    }\n",
       "</style>\n",
       "<table border=\"1\" class=\"dataframe\">\n",
       "  <thead>\n",
       "    <tr style=\"text-align: right;\">\n",
       "      <th></th>\n",
       "      <th>Food</th>\n",
       "      <th>Beer</th>\n",
       "      <th>Smoke</th>\n",
       "      <th>Games</th>\n",
       "      <th>Books</th>\n",
       "      <th>Hshld</th>\n",
       "      <th>Clths</th>\n",
       "      <th>Hlth</th>\n",
       "      <th>Chems</th>\n",
       "      <th>Txtls</th>\n",
       "      <th>...</th>\n",
       "      <th>Telcm</th>\n",
       "      <th>Servs</th>\n",
       "      <th>BusEq</th>\n",
       "      <th>Paper</th>\n",
       "      <th>Trans</th>\n",
       "      <th>Whlsl</th>\n",
       "      <th>Rtail</th>\n",
       "      <th>Meals</th>\n",
       "      <th>Fin</th>\n",
       "      <th>Other</th>\n",
       "    </tr>\n",
       "  </thead>\n",
       "  <tbody>\n",
       "    <tr>\n",
       "      <th>2018-08</th>\n",
       "      <td>0.021873</td>\n",
       "      <td>0.008309</td>\n",
       "      <td>0.008222</td>\n",
       "      <td>0.011997</td>\n",
       "      <td>0.001168</td>\n",
       "      <td>0.014569</td>\n",
       "      <td>0.009720</td>\n",
       "      <td>0.103549</td>\n",
       "      <td>0.017596</td>\n",
       "      <td>0.000616</td>\n",
       "      <td>...</td>\n",
       "      <td>0.039896</td>\n",
       "      <td>0.161042</td>\n",
       "      <td>0.108402</td>\n",
       "      <td>0.010090</td>\n",
       "      <td>0.023453</td>\n",
       "      <td>0.010987</td>\n",
       "      <td>0.076225</td>\n",
       "      <td>0.014317</td>\n",
       "      <td>0.164637</td>\n",
       "      <td>0.047815</td>\n",
       "    </tr>\n",
       "    <tr>\n",
       "      <th>2018-09</th>\n",
       "      <td>0.021005</td>\n",
       "      <td>0.007873</td>\n",
       "      <td>0.007515</td>\n",
       "      <td>0.011923</td>\n",
       "      <td>0.001076</td>\n",
       "      <td>0.014427</td>\n",
       "      <td>0.009874</td>\n",
       "      <td>0.104324</td>\n",
       "      <td>0.016954</td>\n",
       "      <td>0.000618</td>\n",
       "      <td>...</td>\n",
       "      <td>0.039669</td>\n",
       "      <td>0.163597</td>\n",
       "      <td>0.114947</td>\n",
       "      <td>0.009675</td>\n",
       "      <td>0.023248</td>\n",
       "      <td>0.010992</td>\n",
       "      <td>0.080234</td>\n",
       "      <td>0.014275</td>\n",
       "      <td>0.162556</td>\n",
       "      <td>0.047549</td>\n",
       "    </tr>\n",
       "    <tr>\n",
       "      <th>2018-10</th>\n",
       "      <td>0.020661</td>\n",
       "      <td>0.007862</td>\n",
       "      <td>0.007831</td>\n",
       "      <td>0.011851</td>\n",
       "      <td>0.001052</td>\n",
       "      <td>0.014606</td>\n",
       "      <td>0.010000</td>\n",
       "      <td>0.106363</td>\n",
       "      <td>0.014954</td>\n",
       "      <td>0.000580</td>\n",
       "      <td>...</td>\n",
       "      <td>0.040434</td>\n",
       "      <td>0.163111</td>\n",
       "      <td>0.114711</td>\n",
       "      <td>0.009650</td>\n",
       "      <td>0.023535</td>\n",
       "      <td>0.010681</td>\n",
       "      <td>0.080886</td>\n",
       "      <td>0.014663</td>\n",
       "      <td>0.159464</td>\n",
       "      <td>0.048158</td>\n",
       "    </tr>\n",
       "    <tr>\n",
       "      <th>2018-11</th>\n",
       "      <td>0.022649</td>\n",
       "      <td>0.008403</td>\n",
       "      <td>0.009178</td>\n",
       "      <td>0.010810</td>\n",
       "      <td>0.001066</td>\n",
       "      <td>0.015702</td>\n",
       "      <td>0.009761</td>\n",
       "      <td>0.105080</td>\n",
       "      <td>0.014176</td>\n",
       "      <td>0.000467</td>\n",
       "      <td>...</td>\n",
       "      <td>0.043476</td>\n",
       "      <td>0.160187</td>\n",
       "      <td>0.114465</td>\n",
       "      <td>0.009333</td>\n",
       "      <td>0.023064</td>\n",
       "      <td>0.010674</td>\n",
       "      <td>0.078849</td>\n",
       "      <td>0.015642</td>\n",
       "      <td>0.161024</td>\n",
       "      <td>0.049159</td>\n",
       "    </tr>\n",
       "    <tr>\n",
       "      <th>2018-12</th>\n",
       "      <td>0.022832</td>\n",
       "      <td>0.008763</td>\n",
       "      <td>0.008291</td>\n",
       "      <td>0.010589</td>\n",
       "      <td>0.001083</td>\n",
       "      <td>0.016477</td>\n",
       "      <td>0.009510</td>\n",
       "      <td>0.109930</td>\n",
       "      <td>0.014630</td>\n",
       "      <td>0.000474</td>\n",
       "      <td>...</td>\n",
       "      <td>0.043953</td>\n",
       "      <td>0.159804</td>\n",
       "      <td>0.106189</td>\n",
       "      <td>0.009919</td>\n",
       "      <td>0.023915</td>\n",
       "      <td>0.010849</td>\n",
       "      <td>0.077102</td>\n",
       "      <td>0.016251</td>\n",
       "      <td>0.163053</td>\n",
       "      <td>0.050073</td>\n",
       "    </tr>\n",
       "  </tbody>\n",
       "</table>\n",
       "<p>5 rows × 30 columns</p>\n",
       "</div>"
      ],
      "text/plain": [
       "             Food      Beer     Smoke     Games     Books     Hshld     Clths  \\\n",
       "2018-08  0.021873  0.008309  0.008222  0.011997  0.001168  0.014569  0.009720   \n",
       "2018-09  0.021005  0.007873  0.007515  0.011923  0.001076  0.014427  0.009874   \n",
       "2018-10  0.020661  0.007862  0.007831  0.011851  0.001052  0.014606  0.010000   \n",
       "2018-11  0.022649  0.008403  0.009178  0.010810  0.001066  0.015702  0.009761   \n",
       "2018-12  0.022832  0.008763  0.008291  0.010589  0.001083  0.016477  0.009510   \n",
       "\n",
       "             Hlth     Chems     Txtls  ...     Telcm     Servs     BusEq  \\\n",
       "2018-08  0.103549  0.017596  0.000616  ...  0.039896  0.161042  0.108402   \n",
       "2018-09  0.104324  0.016954  0.000618  ...  0.039669  0.163597  0.114947   \n",
       "2018-10  0.106363  0.014954  0.000580  ...  0.040434  0.163111  0.114711   \n",
       "2018-11  0.105080  0.014176  0.000467  ...  0.043476  0.160187  0.114465   \n",
       "2018-12  0.109930  0.014630  0.000474  ...  0.043953  0.159804  0.106189   \n",
       "\n",
       "            Paper     Trans     Whlsl     Rtail     Meals       Fin     Other  \n",
       "2018-08  0.010090  0.023453  0.010987  0.076225  0.014317  0.164637  0.047815  \n",
       "2018-09  0.009675  0.023248  0.010992  0.080234  0.014275  0.162556  0.047549  \n",
       "2018-10  0.009650  0.023535  0.010681  0.080886  0.014663  0.159464  0.048158  \n",
       "2018-11  0.009333  0.023064  0.010674  0.078849  0.015642  0.161024  0.049159  \n",
       "2018-12  0.009919  0.023915  0.010849  0.077102  0.016251  0.163053  0.050073  \n",
       "\n",
       "[5 rows x 30 columns]"
      ]
     },
     "execution_count": 35,
     "metadata": {},
     "output_type": "execute_result"
    }
   ],
   "source": [
    "ind_rets = erk.get_ind_returns()['1997':'2018']\n",
    "mkt_caps = erk.get_ind_market_caps(weights = True)['1997':'2018']\n",
    "mkt_caps.tail()"
   ]
  },
  {
   "cell_type": "code",
   "execution_count": 36,
   "metadata": {},
   "outputs": [],
   "source": [
    "cw = erk.backtest_ws(ind_rets, estimation_window = 36, weighting = erk.weight_cw, cap_weights = mkt_caps)\n",
    "cw.dropna(inplace = True)\n",
    "ew = erk.backtest_ws(ind_rets, estimation_window = 36, weighting = erk.weight_ew)\n",
    "ew.dropna(inplace = True)"
   ]
  },
  {
   "cell_type": "code",
   "execution_count": 37,
   "metadata": {},
   "outputs": [
    {
     "data": {
      "text/plain": [
       "0.06519594475502988"
      ]
     },
     "execution_count": 37,
     "metadata": {},
     "output_type": "execute_result"
    }
   ],
   "source": [
    "erk.annualize_rets(cw, 12)"
   ]
  },
  {
   "cell_type": "code",
   "execution_count": 38,
   "metadata": {},
   "outputs": [
    {
     "data": {
      "text/plain": [
       "0.1514783107201593"
      ]
     },
     "execution_count": 38,
     "metadata": {},
     "output_type": "execute_result"
    }
   ],
   "source": [
    "erk.annualize_vol(cw, 12)"
   ]
  },
  {
   "cell_type": "code",
   "execution_count": 39,
   "metadata": {},
   "outputs": [
    {
     "data": {
      "text/plain": [
       "0.07761399431299276"
      ]
     },
     "execution_count": 39,
     "metadata": {},
     "output_type": "execute_result"
    }
   ],
   "source": [
    "erk.annualize_rets(ew, 12)"
   ]
  },
  {
   "cell_type": "code",
   "execution_count": 40,
   "metadata": {},
   "outputs": [
    {
     "data": {
      "text/plain": [
       "0.1586846699109751"
      ]
     },
     "execution_count": 40,
     "metadata": {},
     "output_type": "execute_result"
    }
   ],
   "source": [
    "erk.annualize_vol(ew, 12)"
   ]
  },
  {
   "cell_type": "code",
   "execution_count": 48,
   "metadata": {},
   "outputs": [],
   "source": [
    "tew = erk.backtest_ws(ind_rets, estimation_window = 36, weighting = erk.weight_ew, cap_weights = mkt_caps,  max_cw_mult = 2,microcap_threshold = 0.01)\n",
    "tew.dropna(inplace = True)"
   ]
  },
  {
   "cell_type": "code",
   "execution_count": 49,
   "metadata": {},
   "outputs": [
    {
     "data": {
      "text/plain": [
       "0.07683792740221795"
      ]
     },
     "execution_count": 49,
     "metadata": {},
     "output_type": "execute_result"
    }
   ],
   "source": [
    "erk.annualize_rets(tew, 12)"
   ]
  },
  {
   "cell_type": "code",
   "execution_count": 50,
   "metadata": {},
   "outputs": [
    {
     "data": {
      "text/plain": [
       "0.14077417260107106"
      ]
     },
     "execution_count": 50,
     "metadata": {},
     "output_type": "execute_result"
    }
   ],
   "source": [
    "erk.annualize_vol(tew, 12)"
   ]
  },
  {
   "cell_type": "code",
   "execution_count": 51,
   "metadata": {},
   "outputs": [
    {
     "data": {
      "text/plain": [
       "0.18752094143646486"
      ]
     },
     "execution_count": 51,
     "metadata": {},
     "output_type": "execute_result"
    }
   ],
   "source": [
    "erk.tracking_error(ew, cw)"
   ]
  },
  {
   "cell_type": "code",
   "execution_count": 52,
   "metadata": {},
   "outputs": [
    {
     "data": {
      "text/plain": [
       "0.11671015519949166"
      ]
     },
     "execution_count": 52,
     "metadata": {},
     "output_type": "execute_result"
    }
   ],
   "source": [
    "erk.tracking_error(tew, cw)"
   ]
  },
  {
   "cell_type": "code",
   "execution_count": 54,
   "metadata": {},
   "outputs": [],
   "source": [
    "gmv = erk.backtest_ws(ind_rets, estimation_window = 36, weighting = erk.weight_gmv, cov_estimator = erk.sample_cov)\n",
    "gmv.dropna(inplace = True)"
   ]
  },
  {
   "cell_type": "code",
   "execution_count": 55,
   "metadata": {},
   "outputs": [
    {
     "data": {
      "text/plain": [
       "0.0663057464311847"
      ]
     },
     "execution_count": 55,
     "metadata": {},
     "output_type": "execute_result"
    }
   ],
   "source": [
    "erk.annualize_rets(gmv, 12)"
   ]
  },
  {
   "cell_type": "code",
   "execution_count": 56,
   "metadata": {},
   "outputs": [
    {
     "data": {
      "text/plain": [
       "0.11740985967086215"
      ]
     },
     "execution_count": 56,
     "metadata": {},
     "output_type": "execute_result"
    }
   ],
   "source": [
    "erk.annualize_vol(gmv, 12)"
   ]
  },
  {
   "cell_type": "code",
   "execution_count": 57,
   "metadata": {},
   "outputs": [],
   "source": [
    "sgmv = erk.backtest_ws(ind_rets, estimation_window = 36, weighting = erk.weight_gmv, cov_estimator = erk.shrinkage_cov, delta = 0.25)\n",
    "sgmv.dropna(inplace = True)"
   ]
  },
  {
   "cell_type": "code",
   "execution_count": 60,
   "metadata": {},
   "outputs": [
    {
     "data": {
      "text/plain": [
       "0.06846711252720938"
      ]
     },
     "execution_count": 60,
     "metadata": {},
     "output_type": "execute_result"
    }
   ],
   "source": [
    "erk.annualize_rets(sgmv, 12)"
   ]
  },
  {
   "cell_type": "code",
   "execution_count": 61,
   "metadata": {},
   "outputs": [
    {
     "data": {
      "text/plain": [
       "0.11457154346537682"
      ]
     },
     "execution_count": 61,
     "metadata": {},
     "output_type": "execute_result"
    }
   ],
   "source": [
    "erk.annualize_vol(sgmv, 12)"
   ]
  },
  {
   "cell_type": "code",
   "execution_count": null,
   "metadata": {},
   "outputs": [],
   "source": []
  }
 ],
 "metadata": {
  "kernelspec": {
   "display_name": "Python 3",
   "language": "python",
   "name": "python3"
  },
  "language_info": {
   "codemirror_mode": {
    "name": "ipython",
    "version": 3
   },
   "file_extension": ".py",
   "mimetype": "text/x-python",
   "name": "python",
   "nbconvert_exporter": "python",
   "pygments_lexer": "ipython3",
   "version": "3.8.5"
  }
 },
 "nbformat": 4,
 "nbformat_minor": 4
}
