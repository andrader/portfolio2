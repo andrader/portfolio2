{
 "cells": [
  {
   "cell_type": "code",
   "execution_count": 1,
   "id": "documented-charm",
   "metadata": {
    "execution": {
     "iopub.execute_input": "2021-04-02T19:33:52.851247Z",
     "iopub.status.busy": "2021-04-02T19:33:52.851247Z",
     "iopub.status.idle": "2021-04-02T19:33:53.969514Z",
     "shell.execute_reply": "2021-04-02T19:33:53.969514Z",
     "shell.execute_reply.started": "2021-04-02T19:33:52.851247Z"
    }
   },
   "outputs": [],
   "source": [
    "import numpy as np\n",
    "import pandas as pd\n",
    "\n",
    "import edhec_risk_kit_206 as erk\n",
    "\n",
    "%load_ext autoreload\n",
    "%autoreload 2\n",
    "\n",
    "pd.options.display.float_format = '{:.2%}'.format"
   ]
  },
  {
   "cell_type": "code",
   "execution_count": null,
   "id": "egyptian-infrared",
   "metadata": {},
   "outputs": [],
   "source": []
  }
 ],
 "metadata": {
  "kernelspec": {
   "display_name": "Python 3",
   "language": "python",
   "name": "python3"
  },
  "language_info": {
   "codemirror_mode": {
    "name": "ipython",
    "version": 3
   },
   "file_extension": ".py",
   "mimetype": "text/x-python",
   "name": "python",
   "nbconvert_exporter": "python",
   "pygments_lexer": "ipython3",
   "version": "3.8.5"
  }
 },
 "nbformat": 4,
 "nbformat_minor": 5
}
