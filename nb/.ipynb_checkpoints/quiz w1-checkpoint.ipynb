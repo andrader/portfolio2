{
 "cells": [
  {
   "cell_type": "code",
   "execution_count": 213,
   "id": "continued-contrast",
   "metadata": {
    "execution": {
     "iopub.execute_input": "2021-03-31T21:49:18.783469Z",
     "iopub.status.busy": "2021-03-31T21:49:18.783469Z",
     "iopub.status.idle": "2021-03-31T21:49:18.973272Z",
     "shell.execute_reply": "2021-03-31T21:49:18.970656Z",
     "shell.execute_reply.started": "2021-03-31T21:49:18.783469Z"
    },
    "tags": []
   },
   "outputs": [
    {
     "name": "stdout",
     "output_type": "stream",
     "text": [
      "The autoreload extension is already loaded. To reload it, use:\n",
      "  %reload_ext autoreload\n"
     ]
    }
   ],
   "source": [
    "import numpy as np\n",
    "import pandas as pd\n",
    "\n",
    "import edhec_risk_kit_203 as erk\n",
    "\n",
    "%load_ext autoreload\n",
    "%autoreload 2\n"
   ]
  },
  {
   "cell_type": "code",
   "execution_count": 214,
   "id": "surface-barrier",
   "metadata": {
    "execution": {
     "iopub.execute_input": "2021-03-31T21:49:19.193358Z",
     "iopub.status.busy": "2021-03-31T21:49:19.193358Z",
     "iopub.status.idle": "2021-03-31T21:49:19.355301Z",
     "shell.execute_reply": "2021-03-31T21:49:19.353307Z",
     "shell.execute_reply.started": "2021-03-31T21:49:19.193358Z"
    },
    "tags": []
   },
   "outputs": [],
   "source": [
    "# 49 ind \n",
    "def get_ind_file(filetype, ew=False):\n",
    "    \"\"\"\n",
    "    Load and format the Ken French 49 Industry Portfolios files\n",
    "    \"\"\"\n",
    "    divisor = 1\n",
    "    if filetype == \"returns\":\n",
    "        filetype = \"ew_rets\" if ew else \"vw_rets\"\n",
    "        divisor = 100\n",
    "                         \n",
    "    ind = pd.read_csv(f\"data/ind49_m_{filetype}.csv\", header=0, index_col=0)/divisor\n",
    "    ind.index = pd.to_datetime(ind.index, format=\"%Y%m\").to_period('M')\n",
    "    ind.columns = ind.columns.str.strip()\n",
    "    return ind\n",
    "\n",
    "def get_ind_returns(ew=False):\n",
    "    \"\"\"\n",
    "    Load and format the Ken French 49 Industry Portfolios Value Weighted Monthly Returns\n",
    "    \"\"\"\n",
    "    return get_ind_file(\"returns\", ew=ew)\n",
    "\n",
    "def get_ind_nfirms():\n",
    "    \"\"\"\n",
    "    Load and format the Ken French 49 Industry Portfolios Average number of Firms\n",
    "    \"\"\"\n",
    "    return get_ind_file(\"nfirms\")"
   ]
  },
  {
   "cell_type": "code",
   "execution_count": 215,
   "id": "applied-china",
   "metadata": {
    "execution": {
     "iopub.execute_input": "2021-03-31T21:49:19.783114Z",
     "iopub.status.busy": "2021-03-31T21:49:19.783114Z",
     "iopub.status.idle": "2021-03-31T21:49:20.104866Z",
     "shell.execute_reply": "2021-03-31T21:49:20.102872Z",
     "shell.execute_reply.started": "2021-03-31T21:49:19.783114Z"
    },
    "tags": []
   },
   "outputs": [],
   "source": [
    "rets = get_ind_returns()\n",
    "ff = erk.get_fff_returns()"
   ]
  },
  {
   "cell_type": "markdown",
   "id": "retained-night",
   "metadata": {},
   "source": [
    "What is the CAPM (Single Factor) **Beta** \n",
    "when evaluated over the entire period (1991-2018) of Beer?"
   ]
  },
  {
   "cell_type": "code",
   "execution_count": 219,
   "id": "upper-secretary",
   "metadata": {
    "execution": {
     "iopub.execute_input": "2021-03-31T21:49:30.983820Z",
     "iopub.status.busy": "2021-03-31T21:49:30.983820Z",
     "iopub.status.idle": "2021-03-31T21:49:31.205166Z",
     "shell.execute_reply": "2021-03-31T21:49:31.203167Z",
     "shell.execute_reply.started": "2021-03-31T21:49:30.983820Z"
    },
    "tags": []
   },
   "outputs": [],
   "source": [
    "import statsmodels.api as sm"
   ]
  },
  {
   "cell_type": "code",
   "execution_count": 232,
   "id": "healthy-attack",
   "metadata": {
    "execution": {
     "iopub.execute_input": "2021-03-31T21:54:58.939163Z",
     "iopub.status.busy": "2021-03-31T21:54:58.938162Z",
     "iopub.status.idle": "2021-03-31T21:54:59.122249Z",
     "shell.execute_reply": "2021-03-31T21:54:59.121251Z",
     "shell.execute_reply.started": "2021-03-31T21:54:58.939163Z"
    },
    "tags": []
   },
   "outputs": [],
   "source": [
    "def capm(ind, t0=None, t1=None):\n",
    "    y = rets[[ind]][t0:t1] - ff[['RF']][t0:t1].values\n",
    "    x = sm.add_constant(ff[['Mkt-RF']][t0:t1])\n",
    "    return sm.OLS(y, x).fit()\n",
    "\n",
    "def famafrench(ind, t0=None, t1=None):\n",
    "    y = rets[[ind]][t0:t1] - ff[['RF']][t0:t1].values\n",
    "    x = sm.add_constant(ff[['Mkt-RF', 'SMB', 'HML']][t0:t1])\n",
    "    return sm.OLS(y, x).fit()\n",
    "\n",
    "def coefs(ind, fun, t0=None, t1=None, name=None):\n",
    "    m = fun(ind, t0, t1)\n",
    "    return m.params[name] if name else m.params\n"
   ]
  },
  {
   "cell_type": "code",
   "execution_count": 235,
   "id": "graphic-sessions",
   "metadata": {
    "execution": {
     "iopub.execute_input": "2021-03-31T21:55:40.013894Z",
     "iopub.status.busy": "2021-03-31T21:55:40.013894Z",
     "iopub.status.idle": "2021-03-31T21:55:40.245308Z",
     "shell.execute_reply": "2021-03-31T21:55:40.242974Z",
     "shell.execute_reply.started": "2021-03-31T21:55:40.013894Z"
    },
    "tags": []
   },
   "outputs": [
    {
     "data": {
      "text/plain": [
       "0.5295417263363025"
      ]
     },
     "execution_count": 235,
     "metadata": {},
     "output_type": "execute_result"
    }
   ],
   "source": [
    "coefs('Beer',capm,'1991', '2018','Mkt-RF')"
   ]
  },
  {
   "cell_type": "code",
   "execution_count": 236,
   "id": "saved-sixth",
   "metadata": {
    "execution": {
     "iopub.execute_input": "2021-03-31T21:55:40.421973Z",
     "iopub.status.busy": "2021-03-31T21:55:40.420946Z",
     "iopub.status.idle": "2021-03-31T21:55:40.731780Z",
     "shell.execute_reply": "2021-03-31T21:55:40.726714Z",
     "shell.execute_reply.started": "2021-03-31T21:55:40.421973Z"
    },
    "tags": []
   },
   "outputs": [
    {
     "data": {
      "text/plain": [
       "1.5546095998085288"
      ]
     },
     "execution_count": 236,
     "metadata": {},
     "output_type": "execute_result"
    }
   ],
   "source": [
    "coefs('Steel',capm,'1991', '2018','Mkt-RF')"
   ]
  },
  {
   "cell_type": "code",
   "execution_count": 238,
   "id": "better-symbol",
   "metadata": {
    "execution": {
     "iopub.execute_input": "2021-03-31T21:55:58.618290Z",
     "iopub.status.busy": "2021-03-31T21:55:58.618290Z",
     "iopub.status.idle": "2021-03-31T21:55:58.785581Z",
     "shell.execute_reply": "2021-03-31T21:55:58.783588Z",
     "shell.execute_reply.started": "2021-03-31T21:55:58.618290Z"
    },
    "tags": []
   },
   "outputs": [
    {
     "data": {
      "text/plain": [
       "0.585960389056597"
      ]
     },
     "execution_count": 238,
     "metadata": {},
     "output_type": "execute_result"
    }
   ],
   "source": [
    "coefs('Beer',capm,'2013', '2018','Mkt-RF')"
   ]
  },
  {
   "cell_type": "code",
   "execution_count": 239,
   "id": "british-program",
   "metadata": {
    "execution": {
     "iopub.execute_input": "2021-03-31T21:56:16.858020Z",
     "iopub.status.busy": "2021-03-31T21:56:16.857023Z",
     "iopub.status.idle": "2021-03-31T21:56:17.090676Z",
     "shell.execute_reply": "2021-03-31T21:56:17.088681Z",
     "shell.execute_reply.started": "2021-03-31T21:56:16.858020Z"
    },
    "tags": []
   },
   "outputs": [
    {
     "data": {
      "text/plain": [
       "1.4169446523353806"
      ]
     },
     "execution_count": 239,
     "metadata": {},
     "output_type": "execute_result"
    }
   ],
   "source": [
    "coefs('Steel',capm,'2013', '2018','Mkt-RF')"
   ]
  },
  {
   "cell_type": "markdown",
   "id": "amateur-indiana",
   "metadata": {},
   "source": [
    " which of the 49 industries had the highest CAPM Beta when evaluated over the 1991-1993 (both included) period?"
   ]
  },
  {
   "cell_type": "code",
   "execution_count": 246,
   "id": "known-header",
   "metadata": {
    "execution": {
     "iopub.execute_input": "2021-03-31T21:57:53.998668Z",
     "iopub.status.busy": "2021-03-31T21:57:53.998668Z",
     "iopub.status.idle": "2021-03-31T21:57:54.847690Z",
     "shell.execute_reply": "2021-03-31T21:57:54.846385Z",
     "shell.execute_reply.started": "2021-03-31T21:57:53.998668Z"
    },
    "tags": []
   },
   "outputs": [
    {
     "data": {
      "text/html": [
       "<div>\n",
       "<style scoped>\n",
       "    .dataframe tbody tr th:only-of-type {\n",
       "        vertical-align: middle;\n",
       "    }\n",
       "\n",
       "    .dataframe tbody tr th {\n",
       "        vertical-align: top;\n",
       "    }\n",
       "\n",
       "    .dataframe thead th {\n",
       "        text-align: right;\n",
       "    }\n",
       "</style>\n",
       "<table border=\"1\" class=\"dataframe\">\n",
       "  <thead>\n",
       "    <tr style=\"text-align: right;\">\n",
       "      <th></th>\n",
       "      <th>const</th>\n",
       "      <th>Mkt-RF</th>\n",
       "    </tr>\n",
       "  </thead>\n",
       "  <tbody>\n",
       "    <tr>\n",
       "      <th>Agric</th>\n",
       "      <td>-0.002842</td>\n",
       "      <td>1.028381</td>\n",
       "    </tr>\n",
       "    <tr>\n",
       "      <th>Food</th>\n",
       "      <td>-0.008876</td>\n",
       "      <td>1.262609</td>\n",
       "    </tr>\n",
       "    <tr>\n",
       "      <th>Soda</th>\n",
       "      <td>-0.006793</td>\n",
       "      <td>1.319035</td>\n",
       "    </tr>\n",
       "    <tr>\n",
       "      <th>Beer</th>\n",
       "      <td>-0.000163</td>\n",
       "      <td>1.198078</td>\n",
       "    </tr>\n",
       "    <tr>\n",
       "      <th>Smoke</th>\n",
       "      <td>-0.018946</td>\n",
       "      <td>1.323776</td>\n",
       "    </tr>\n",
       "  </tbody>\n",
       "</table>\n",
       "</div>"
      ],
      "text/plain": [
       "          const    Mkt-RF\n",
       "Agric -0.002842  1.028381\n",
       "Food  -0.008876  1.262609\n",
       "Soda  -0.006793  1.319035\n",
       "Beer  -0.000163  1.198078\n",
       "Smoke -0.018946  1.323776"
      ]
     },
     "execution_count": 246,
     "metadata": {},
     "output_type": "execute_result"
    }
   ],
   "source": [
    "inds = rets.columns.to_series()\n",
    "betas = inds.apply(coefs, t0='1991', t1='1993', fun=capm)\n",
    "betas.head()"
   ]
  },
  {
   "cell_type": "code",
   "execution_count": 250,
   "id": "transsexual-pearl",
   "metadata": {
    "execution": {
     "iopub.execute_input": "2021-03-31T21:59:11.252247Z",
     "iopub.status.busy": "2021-03-31T21:59:11.252247Z",
     "iopub.status.idle": "2021-03-31T21:59:11.468761Z",
     "shell.execute_reply": "2021-03-31T21:59:11.465769Z",
     "shell.execute_reply.started": "2021-03-31T21:59:11.252247Z"
    },
    "tags": []
   },
   "outputs": [
    {
     "data": {
      "text/plain": [
       "'Hlth'"
      ]
     },
     "execution_count": 250,
     "metadata": {},
     "output_type": "execute_result"
    }
   ],
   "source": [
    "# 5. highest CAPM Beta over the 1991-1993 (both included) period?\n",
    "betas['Mkt-RF'].idxmax()"
   ]
  },
  {
   "cell_type": "code",
   "execution_count": 252,
   "id": "passive-trinidad",
   "metadata": {
    "execution": {
     "iopub.execute_input": "2021-03-31T22:00:20.900325Z",
     "iopub.status.busy": "2021-03-31T22:00:20.900325Z",
     "iopub.status.idle": "2021-03-31T22:00:21.067142Z",
     "shell.execute_reply": "2021-03-31T22:00:21.064945Z",
     "shell.execute_reply.started": "2021-03-31T22:00:20.900325Z"
    },
    "tags": []
   },
   "outputs": [
    {
     "data": {
      "text/plain": [
       "'Gold'"
      ]
     },
     "execution_count": 252,
     "metadata": {},
     "output_type": "execute_result"
    }
   ],
   "source": [
    "# 6. lowest  CAPM Beta over the 1991-1993 (both included) period?\n",
    "betas['Mkt-RF'].idxmin()"
   ]
  },
  {
   "cell_type": "markdown",
   "id": "excited-barrel",
   "metadata": {},
   "source": [
    "# 7, 8, 9, 10"
   ]
  },
  {
   "cell_type": "markdown",
   "id": "sunrise-commonwealth",
   "metadata": {},
   "source": [
    "7. highest Small Cap tilt when analyzed over the entire 1991-2018 period?"
   ]
  },
  {
   "cell_type": "code",
   "execution_count": 257,
   "id": "imposed-saint",
   "metadata": {
    "execution": {
     "iopub.execute_input": "2021-03-31T22:04:10.854090Z",
     "iopub.status.busy": "2021-03-31T22:04:10.854090Z",
     "iopub.status.idle": "2021-03-31T22:04:11.725990Z",
     "shell.execute_reply": "2021-03-31T22:04:11.724994Z",
     "shell.execute_reply.started": "2021-03-31T22:04:10.854090Z"
    },
    "tags": []
   },
   "outputs": [
    {
     "data": {
      "text/plain": [
       "'FabPr'"
      ]
     },
     "execution_count": 257,
     "metadata": {},
     "output_type": "execute_result"
    }
   ],
   "source": [
    "fftilts = inds.apply(coefs, t0='1991', t1='2018',fun=famafrench)\n",
    "fftilts['SMB'].idxmax()"
   ]
  },
  {
   "cell_type": "markdown",
   "id": "stable-saying",
   "metadata": {},
   "source": [
    "8. highest Large Cap tilt when analyzed over the period as the previous? "
   ]
  },
  {
   "cell_type": "code",
   "execution_count": 258,
   "id": "found-vision",
   "metadata": {
    "execution": {
     "iopub.execute_input": "2021-03-31T22:04:33.569845Z",
     "iopub.status.busy": "2021-03-31T22:04:33.569845Z",
     "iopub.status.idle": "2021-03-31T22:04:33.744748Z",
     "shell.execute_reply": "2021-03-31T22:04:33.742753Z",
     "shell.execute_reply.started": "2021-03-31T22:04:33.569845Z"
    }
   },
   "outputs": [
    {
     "data": {
      "text/plain": [
       "'Beer'"
      ]
     },
     "execution_count": 258,
     "metadata": {},
     "output_type": "execute_result"
    }
   ],
   "source": [
    "fftilts['SMB'].idxmin()"
   ]
  },
  {
   "cell_type": "markdown",
   "id": "ongoing-investigator",
   "metadata": {},
   "source": [
    "9. highest Value tilt when analyzed over the entire period?    "
   ]
  },
  {
   "cell_type": "code",
   "execution_count": null,
   "id": "geological-prayer",
   "metadata": {},
   "outputs": [],
   "source": [
    "fftilts['HML'].idxmax()"
   ]
  },
  {
   "cell_type": "markdown",
   "id": "threaded-sharp",
   "metadata": {},
   "source": [
    "10. highest Growth tilt when analyzed over the entire period?    "
   ]
  },
  {
   "cell_type": "code",
   "execution_count": null,
   "id": "failing-conflict",
   "metadata": {},
   "outputs": [],
   "source": [
    "fftilts['HML'].idxmin()"
   ]
  },
  {
   "cell_type": "code",
   "execution_count": null,
   "id": "outer-thinking",
   "metadata": {},
   "outputs": [],
   "source": []
  }
 ],
 "metadata": {
  "kernelspec": {
   "display_name": "Python 3",
   "language": "python",
   "name": "python3"
  },
  "language_info": {
   "codemirror_mode": {
    "name": "ipython",
    "version": 3
   },
   "file_extension": ".py",
   "mimetype": "text/x-python",
   "name": "python",
   "nbconvert_exporter": "python",
   "pygments_lexer": "ipython3",
   "version": "3.8.5"
  }
 },
 "nbformat": 4,
 "nbformat_minor": 5
}
