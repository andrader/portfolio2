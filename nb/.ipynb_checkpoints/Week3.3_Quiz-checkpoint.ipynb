{
 "cells": [
  {
   "cell_type": "code",
   "execution_count": 38,
   "metadata": {},
   "outputs": [],
   "source": [
    "import numpy as np\n",
    "import pandas as pd\n",
    "\n",
    "def as_colvec(x):\n",
    "    if (x.ndim == 2):\n",
    "        return x\n",
    "    else:\n",
    "        return np.expand_dims(x, axis=1)\n",
    "    \n",
    "def implied_returns(delta, sigma, w):\n",
    "    \"\"\"\n",
    "Obtain the implied expected returns by reverse engineering the weights\n",
    "Inputs:\n",
    "delta: Risk Aversion Coefficient (scalar)\n",
    "sigma: Variance-Covariance Matrix (N x N) as DataFrame\n",
    "    w: Portfolio weights (N x 1) as Series\n",
    "Returns an N x 1 vector of Returns as Series\n",
    "    \"\"\"\n",
    "    ir = delta * sigma.dot(w).squeeze() # to get a series from a 1-column dataframe\n",
    "    ir.name = 'Implied Returns'\n",
    "    return ir\n",
    "\n",
    "# Assumes that Omega is proportional to the variance of the prior\n",
    "def proportional_prior(sigma, tau, p):\n",
    "    \"\"\"\n",
    "    Returns the He-Litterman simplified Omega\n",
    "    Inputs:\n",
    "    sigma: N x N Covariance Matrix as DataFrame\n",
    "    tau: a scalar\n",
    "    p: a K x N DataFrame linking Q and Assets\n",
    "    returns a P x P DataFrame, a Matrix representing Prior Uncertainties\n",
    "    \"\"\"\n",
    "    helit_omega = p.dot(tau * sigma).dot(p.T)\n",
    "    # Make a diag matrix from the diag elements of Omega\n",
    "    return pd.DataFrame(np.diag(np.diag(helit_omega.values)),index=p.index, columns=p.index)\n",
    "\n",
    "from numpy.linalg import inv\n",
    "\n",
    "def bl(w_prior, sigma_prior, p, q,\n",
    "                omega=None,\n",
    "                delta=2.5, tau=.02):\n",
    "    \"\"\"\n",
    "# Computes the posterior expected returns based on \n",
    "# the original black litterman reference model\n",
    "#\n",
    "# W.prior must be an N x 1 vector of weights, a Series\n",
    "# Sigma.prior is an N x N covariance matrix, a DataFrame\n",
    "# P must be a K x N matrix linking Q and the Assets, a DataFrame\n",
    "# Q must be an K x 1 vector of views, a Series\n",
    "# Omega must be a K x K matrix a DataFrame, or None\n",
    "# if Omega is None, we assume it is\n",
    "#    proportional to variance of the prior\n",
    "# delta and tau are scalars\n",
    "    \"\"\"\n",
    "    if omega is None:\n",
    "        omega = proportional_prior(sigma_prior, tau, p)\n",
    "    # Force w.prior and Q to be column vectors\n",
    "    # How many assets do we have?\n",
    "    N = w_prior.shape[0]\n",
    "    # And how many views?\n",
    "    K = q.shape[0]\n",
    "    # First, reverse-engineer the weights to get pi\n",
    "    pi = implied_returns(delta, sigma_prior,  w_prior)\n",
    "    # Adjust (scale) Sigma by the uncertainty scaling factor\n",
    "    sigma_prior_scaled = tau * sigma_prior  \n",
    "    # posterior estimate of the mean, use the \"Master Formula\"\n",
    "    # we use the versions that do not require\n",
    "    # Omega to be inverted (see previous section)\n",
    "    # this is easier to read if we use '@' for matrixmult instead of .dot()\n",
    "    #     mu_bl = pi + sigma_prior_scaled @ p.T @ inv(p @ sigma_prior_scaled @ p.T + omega) @ (q - p @ pi)\n",
    "    mu_bl = pi + sigma_prior_scaled.dot(p.T).dot(inv(p.dot(sigma_prior_scaled).dot(p.T) + omega).dot(q - p.dot(pi).values))\n",
    "    # posterior estimate of uncertainty of mu.bl\n",
    "#     sigma_bl = sigma_prior + sigma_prior_scaled - sigma_prior_scaled @ p.T @ inv(p @ sigma_prior_scaled @ p.T + omega) @ p @ sigma_prior_scaled\n",
    "    sigma_bl = sigma_prior + sigma_prior_scaled - sigma_prior_scaled.dot(p.T).dot(inv(p.dot(sigma_prior_scaled).dot(p.T) + omega)).dot(p).dot(sigma_prior_scaled)\n",
    "    return (mu_bl, sigma_bl)\n",
    "\n",
    "# for convenience and readability, define the inverse of a dataframe\n",
    "def inverse(d):\n",
    "    \"\"\"\n",
    "    Invert the dataframe by inverting the underlying matrix\n",
    "    \"\"\"\n",
    "    return pd.DataFrame(inv(d.values), index=d.columns, columns=d.index)\n",
    "\n",
    "def w_msr(sigma, mu, scale=True):\n",
    "    \"\"\"\n",
    "    Optimal (Tangent/Max Sharpe Ratio) Portfolio weights\n",
    "    by using the Markowitz Optimization Procedure\n",
    "    Mu is the vector of Excess expected Returns\n",
    "    Sigma must be an N x N matrix as a DataFrame and Mu a column vector as a Series\n",
    "    This implements page 188 Equation 5.2.28 of\n",
    "    \"The econometrics of financial markets\" Campbell, Lo and Mackinlay.\n",
    "    \"\"\"\n",
    "    w = inverse(sigma).dot(mu)\n",
    "    if scale:\n",
    "        w = w/sum(w) # fix: this assumes all w is +ve\n",
    "    return w\n",
    "\n"
   ]
  },
  {
   "cell_type": "code",
   "execution_count": 1,
   "metadata": {},
   "outputs": [],
   "source": [
    "import numpy as np\n",
    "import pandas as pd\n",
    "\n",
    "import edhec_risk_kit_206 as erk\n",
    "\n",
    "%load_ext autoreload\n",
    "%autoreload 2"
   ]
  },
  {
   "cell_type": "code",
   "execution_count": 11,
   "metadata": {},
   "outputs": [
    {
     "data": {
      "text/html": [
       "<div>\n",
       "<style scoped>\n",
       "    .dataframe tbody tr th:only-of-type {\n",
       "        vertical-align: middle;\n",
       "    }\n",
       "\n",
       "    .dataframe tbody tr th {\n",
       "        vertical-align: top;\n",
       "    }\n",
       "\n",
       "    .dataframe thead th {\n",
       "        text-align: right;\n",
       "    }\n",
       "</style>\n",
       "<table border=\"1\" class=\"dataframe\">\n",
       "  <thead>\n",
       "    <tr style=\"text-align: right;\">\n",
       "      <th></th>\n",
       "      <th>Hlth</th>\n",
       "      <th>Fin</th>\n",
       "      <th>Whlsl</th>\n",
       "      <th>Rtail</th>\n",
       "      <th>Food</th>\n",
       "    </tr>\n",
       "  </thead>\n",
       "  <tbody>\n",
       "    <tr>\n",
       "      <th>2018-08</th>\n",
       "      <td>0.005456</td>\n",
       "      <td>0.024948</td>\n",
       "      <td>0.010987</td>\n",
       "      <td>0.076225</td>\n",
       "      <td>0.013758</td>\n",
       "    </tr>\n",
       "    <tr>\n",
       "      <th>2018-09</th>\n",
       "      <td>0.005577</td>\n",
       "      <td>0.024080</td>\n",
       "      <td>0.010992</td>\n",
       "      <td>0.080234</td>\n",
       "      <td>0.013394</td>\n",
       "    </tr>\n",
       "    <tr>\n",
       "      <th>2018-10</th>\n",
       "      <td>0.005383</td>\n",
       "      <td>0.023262</td>\n",
       "      <td>0.010681</td>\n",
       "      <td>0.080886</td>\n",
       "      <td>0.012858</td>\n",
       "    </tr>\n",
       "    <tr>\n",
       "      <th>2018-11</th>\n",
       "      <td>0.005370</td>\n",
       "      <td>0.024093</td>\n",
       "      <td>0.010674</td>\n",
       "      <td>0.078849</td>\n",
       "      <td>0.014076</td>\n",
       "    </tr>\n",
       "    <tr>\n",
       "      <th>2018-12</th>\n",
       "      <td>0.005481</td>\n",
       "      <td>0.023729</td>\n",
       "      <td>0.010849</td>\n",
       "      <td>0.077102</td>\n",
       "      <td>0.013871</td>\n",
       "    </tr>\n",
       "  </tbody>\n",
       "</table>\n",
       "</div>"
      ],
      "text/plain": [
       "             Hlth       Fin     Whlsl     Rtail      Food\n",
       "2018-08  0.005456  0.024948  0.010987  0.076225  0.013758\n",
       "2018-09  0.005577  0.024080  0.010992  0.080234  0.013394\n",
       "2018-10  0.005383  0.023262  0.010681  0.080886  0.012858\n",
       "2018-11  0.005370  0.024093  0.010674  0.078849  0.014076\n",
       "2018-12  0.005481  0.023729  0.010849  0.077102  0.013871"
      ]
     },
     "execution_count": 11,
     "metadata": {},
     "output_type": "execute_result"
    }
   ],
   "source": [
    "ind_rets = erk.get_ind_returns(n_inds = 49)['2013':'2018'][['Hlth', 'Fin', 'Whlsl', 'Rtail', 'Food']]\n",
    "mkt_caps = erk.get_ind_market_caps(n_inds = 49, weights = True)['2013':'2018'][['Hlth', 'Fin', 'Whlsl', 'Rtail', 'Food']]\n",
    "mkt_caps.tail()"
   ]
  },
  {
   "cell_type": "code",
   "execution_count": 26,
   "metadata": {},
   "outputs": [
    {
     "data": {
      "text/html": [
       "<div>\n",
       "<style scoped>\n",
       "    .dataframe tbody tr th:only-of-type {\n",
       "        vertical-align: middle;\n",
       "    }\n",
       "\n",
       "    .dataframe tbody tr th {\n",
       "        vertical-align: top;\n",
       "    }\n",
       "\n",
       "    .dataframe thead th {\n",
       "        text-align: right;\n",
       "    }\n",
       "</style>\n",
       "<table border=\"1\" class=\"dataframe\">\n",
       "  <thead>\n",
       "    <tr style=\"text-align: right;\">\n",
       "      <th></th>\n",
       "      <th>Hlth</th>\n",
       "      <th>Fin</th>\n",
       "      <th>Whlsl</th>\n",
       "      <th>Rtail</th>\n",
       "      <th>Food</th>\n",
       "    </tr>\n",
       "  </thead>\n",
       "  <tbody>\n",
       "    <tr>\n",
       "      <th>Hlth</th>\n",
       "      <td>1.000000</td>\n",
       "      <td>0.524886</td>\n",
       "      <td>0.650900</td>\n",
       "      <td>0.574227</td>\n",
       "      <td>0.371698</td>\n",
       "    </tr>\n",
       "    <tr>\n",
       "      <th>Fin</th>\n",
       "      <td>0.524886</td>\n",
       "      <td>1.000000</td>\n",
       "      <td>0.777653</td>\n",
       "      <td>0.595332</td>\n",
       "      <td>0.343016</td>\n",
       "    </tr>\n",
       "    <tr>\n",
       "      <th>Whlsl</th>\n",
       "      <td>0.650900</td>\n",
       "      <td>0.777653</td>\n",
       "      <td>1.000000</td>\n",
       "      <td>0.743754</td>\n",
       "      <td>0.541244</td>\n",
       "    </tr>\n",
       "    <tr>\n",
       "      <th>Rtail</th>\n",
       "      <td>0.574227</td>\n",
       "      <td>0.595332</td>\n",
       "      <td>0.743754</td>\n",
       "      <td>1.000000</td>\n",
       "      <td>0.575063</td>\n",
       "    </tr>\n",
       "    <tr>\n",
       "      <th>Food</th>\n",
       "      <td>0.371698</td>\n",
       "      <td>0.343016</td>\n",
       "      <td>0.541244</td>\n",
       "      <td>0.575063</td>\n",
       "      <td>1.000000</td>\n",
       "    </tr>\n",
       "  </tbody>\n",
       "</table>\n",
       "</div>"
      ],
      "text/plain": [
       "           Hlth       Fin     Whlsl     Rtail      Food\n",
       "Hlth   1.000000  0.524886  0.650900  0.574227  0.371698\n",
       "Fin    0.524886  1.000000  0.777653  0.595332  0.343016\n",
       "Whlsl  0.650900  0.777653  1.000000  0.743754  0.541244\n",
       "Rtail  0.574227  0.595332  0.743754  1.000000  0.575063\n",
       "Food   0.371698  0.343016  0.541244  0.575063  1.000000"
      ]
     },
     "execution_count": 26,
     "metadata": {},
     "output_type": "execute_result"
    }
   ],
   "source": [
    "ind_vol = ind_rets.std()*np.sqrt(12)\n",
    "ind_corr = ind_rets.corr()\n",
    "ind_corr"
   ]
  },
  {
   "cell_type": "code",
   "execution_count": 27,
   "metadata": {},
   "outputs": [
    {
     "data": {
      "text/html": [
       "<div>\n",
       "<style scoped>\n",
       "    .dataframe tbody tr th:only-of-type {\n",
       "        vertical-align: middle;\n",
       "    }\n",
       "\n",
       "    .dataframe tbody tr th {\n",
       "        vertical-align: top;\n",
       "    }\n",
       "\n",
       "    .dataframe thead th {\n",
       "        text-align: right;\n",
       "    }\n",
       "</style>\n",
       "<table border=\"1\" class=\"dataframe\">\n",
       "  <thead>\n",
       "    <tr style=\"text-align: right;\">\n",
       "      <th></th>\n",
       "      <th>Hlth</th>\n",
       "      <th>Fin</th>\n",
       "      <th>Whlsl</th>\n",
       "      <th>Rtail</th>\n",
       "      <th>Food</th>\n",
       "    </tr>\n",
       "  </thead>\n",
       "  <tbody>\n",
       "    <tr>\n",
       "      <th>Hlth</th>\n",
       "      <td>0.108718</td>\n",
       "      <td>0.057064</td>\n",
       "      <td>0.070764</td>\n",
       "      <td>0.062429</td>\n",
       "      <td>0.040410</td>\n",
       "    </tr>\n",
       "    <tr>\n",
       "      <th>Fin</th>\n",
       "      <td>0.057064</td>\n",
       "      <td>0.108718</td>\n",
       "      <td>0.084545</td>\n",
       "      <td>0.064723</td>\n",
       "      <td>0.037292</td>\n",
       "    </tr>\n",
       "    <tr>\n",
       "      <th>Whlsl</th>\n",
       "      <td>0.070764</td>\n",
       "      <td>0.084545</td>\n",
       "      <td>0.108718</td>\n",
       "      <td>0.080859</td>\n",
       "      <td>0.058843</td>\n",
       "    </tr>\n",
       "    <tr>\n",
       "      <th>Rtail</th>\n",
       "      <td>0.062429</td>\n",
       "      <td>0.064723</td>\n",
       "      <td>0.080859</td>\n",
       "      <td>0.108718</td>\n",
       "      <td>0.062519</td>\n",
       "    </tr>\n",
       "    <tr>\n",
       "      <th>Food</th>\n",
       "      <td>0.040410</td>\n",
       "      <td>0.037292</td>\n",
       "      <td>0.058843</td>\n",
       "      <td>0.062519</td>\n",
       "      <td>0.108718</td>\n",
       "    </tr>\n",
       "  </tbody>\n",
       "</table>\n",
       "</div>"
      ],
      "text/plain": [
       "           Hlth       Fin     Whlsl     Rtail      Food\n",
       "Hlth   0.108718  0.057064  0.070764  0.062429  0.040410\n",
       "Fin    0.057064  0.108718  0.084545  0.064723  0.037292\n",
       "Whlsl  0.070764  0.084545  0.108718  0.080859  0.058843\n",
       "Rtail  0.062429  0.064723  0.080859  0.108718  0.062519\n",
       "Food   0.040410  0.037292  0.058843  0.062519  0.108718"
      ]
     },
     "execution_count": 27,
     "metadata": {},
     "output_type": "execute_result"
    }
   ],
   "source": [
    "ind_ann_cov = ind_vol.dot(ind_vol) * ind_corr\n",
    "ind_ann_cov"
   ]
  },
  {
   "cell_type": "code",
   "execution_count": 36,
   "metadata": {},
   "outputs": [
    {
     "data": {
      "text/plain": [
       "Hlth     0.152854\n",
       "Fin      0.176483\n",
       "Whlsl    0.201786\n",
       "Rtail    0.223770\n",
       "Food     0.157528\n",
       "Name: Implied Returns, dtype: float64"
      ]
     },
     "execution_count": 36,
     "metadata": {},
     "output_type": "execute_result"
    }
   ],
   "source": [
    "cw = erk.weight_cw(ind_rets, cap_weights = mkt_caps)\n",
    "delta = 2.5\n",
    "implied_returns(delta, ind_ann_cov, cw)"
   ]
  },
  {
   "cell_type": "code",
   "execution_count": 35,
   "metadata": {},
   "outputs": [
    {
     "data": {
      "text/html": [
       "<div>\n",
       "<style scoped>\n",
       "    .dataframe tbody tr th:only-of-type {\n",
       "        vertical-align: middle;\n",
       "    }\n",
       "\n",
       "    .dataframe tbody tr th {\n",
       "        vertical-align: top;\n",
       "    }\n",
       "\n",
       "    .dataframe thead th {\n",
       "        text-align: right;\n",
       "    }\n",
       "</style>\n",
       "<table border=\"1\" class=\"dataframe\">\n",
       "  <thead>\n",
       "    <tr style=\"text-align: right;\">\n",
       "      <th></th>\n",
       "      <th>Hlth</th>\n",
       "      <th>Fin</th>\n",
       "      <th>Whlsl</th>\n",
       "      <th>Rtail</th>\n",
       "      <th>Food</th>\n",
       "    </tr>\n",
       "  </thead>\n",
       "  <tbody>\n",
       "    <tr>\n",
       "      <th>0</th>\n",
       "      <td>1.0</td>\n",
       "      <td>0.0</td>\n",
       "      <td>-0.151635</td>\n",
       "      <td>-0.848365</td>\n",
       "      <td>0.0</td>\n",
       "    </tr>\n",
       "  </tbody>\n",
       "</table>\n",
       "</div>"
      ],
      "text/plain": [
       "   Hlth  Fin     Whlsl     Rtail  Food\n",
       "0   1.0  0.0 -0.151635 -0.848365   0.0"
      ]
     },
     "execution_count": 35,
     "metadata": {},
     "output_type": "execute_result"
    }
   ],
   "source": [
    "q = pd.Series([.03]) # just one view\n",
    "# start with a single view, all zeros and overwrite the specific view\n",
    "p = pd.DataFrame([0.]*len(ind_rets.columns), index=ind_rets.columns).T\n",
    "w_Rtail =  cw.loc[\"Rtail\"]/(cw.loc[\"Rtail\"]+cw.loc[\"Whlsl\"])\n",
    "w_Whlsl =  cw.loc[\"Whlsl\"]/(cw.loc[\"Rtail\"]+cw.loc[\"Whlsl\"])\n",
    "p.iloc[0]['Hlth'] = 1.\n",
    "p.iloc[0]['Rtail'] = -w_Rtail\n",
    "p.iloc[0]['Whlsl'] = -w_Whlsl\n",
    "p"
   ]
  },
  {
   "cell_type": "code",
   "execution_count": 41,
   "metadata": {},
   "outputs": [],
   "source": [
    "delta = 2.5\n",
    "tau = 0.05"
   ]
  },
  {
   "cell_type": "code",
   "execution_count": 43,
   "metadata": {},
   "outputs": [
    {
     "data": {
      "text/plain": [
       "Hlth     17.936\n",
       "Fin      17.021\n",
       "Whlsl    19.336\n",
       "Rtail    19.901\n",
       "Food     14.484\n",
       "dtype: float64"
      ]
     },
     "execution_count": 43,
     "metadata": {},
     "output_type": "execute_result"
    }
   ],
   "source": [
    "bl_mu, bl_sigma = bl(cw, sigma_prior, p, q, tau = tau)\n",
    "(bl_mu*100).round(3)"
   ]
  },
  {
   "cell_type": "code",
   "execution_count": 44,
   "metadata": {},
   "outputs": [
    {
     "data": {
      "text/html": [
       "<div>\n",
       "<style scoped>\n",
       "    .dataframe tbody tr th:only-of-type {\n",
       "        vertical-align: middle;\n",
       "    }\n",
       "\n",
       "    .dataframe tbody tr th {\n",
       "        vertical-align: top;\n",
       "    }\n",
       "\n",
       "    .dataframe thead th {\n",
       "        text-align: right;\n",
       "    }\n",
       "</style>\n",
       "<table border=\"1\" class=\"dataframe\">\n",
       "  <thead>\n",
       "    <tr style=\"text-align: right;\">\n",
       "      <th></th>\n",
       "      <th>Hlth</th>\n",
       "      <th>Fin</th>\n",
       "      <th>Whlsl</th>\n",
       "      <th>Rtail</th>\n",
       "      <th>Food</th>\n",
       "    </tr>\n",
       "  </thead>\n",
       "  <tbody>\n",
       "    <tr>\n",
       "      <th>Hlth</th>\n",
       "      <td>0.113542</td>\n",
       "      <td>0.060062</td>\n",
       "      <td>0.074497</td>\n",
       "      <td>0.066121</td>\n",
       "      <td>0.042723</td>\n",
       "    </tr>\n",
       "    <tr>\n",
       "      <th>Fin</th>\n",
       "      <td>0.060062</td>\n",
       "      <td>0.114119</td>\n",
       "      <td>0.088726</td>\n",
       "      <td>0.067824</td>\n",
       "      <td>0.039087</td>\n",
       "    </tr>\n",
       "    <tr>\n",
       "      <th>Whlsl</th>\n",
       "      <td>0.074497</td>\n",
       "      <td>0.088726</td>\n",
       "      <td>0.114092</td>\n",
       "      <td>0.084721</td>\n",
       "      <td>0.061692</td>\n",
       "    </tr>\n",
       "    <tr>\n",
       "      <th>Rtail</th>\n",
       "      <td>0.066121</td>\n",
       "      <td>0.067824</td>\n",
       "      <td>0.084721</td>\n",
       "      <td>0.113620</td>\n",
       "      <td>0.065372</td>\n",
       "    </tr>\n",
       "    <tr>\n",
       "      <th>Food</th>\n",
       "      <td>0.042723</td>\n",
       "      <td>0.039087</td>\n",
       "      <td>0.061692</td>\n",
       "      <td>0.065372</td>\n",
       "      <td>0.114013</td>\n",
       "    </tr>\n",
       "  </tbody>\n",
       "</table>\n",
       "</div>"
      ],
      "text/plain": [
       "           Hlth       Fin     Whlsl     Rtail      Food\n",
       "Hlth   0.113542  0.060062  0.074497  0.066121  0.042723\n",
       "Fin    0.060062  0.114119  0.088726  0.067824  0.039087\n",
       "Whlsl  0.074497  0.088726  0.114092  0.084721  0.061692\n",
       "Rtail  0.066121  0.067824  0.084721  0.113620  0.065372\n",
       "Food   0.042723  0.039087  0.061692  0.065372  0.114013"
      ]
     },
     "execution_count": 44,
     "metadata": {},
     "output_type": "execute_result"
    }
   ],
   "source": [
    "bl_sigma"
   ]
  },
  {
   "cell_type": "code",
   "execution_count": 49,
   "metadata": {},
   "outputs": [
    {
     "data": {
      "text/plain": [
       "Hlth     27.6\n",
       "Fin      18.5\n",
       "Whlsl     6.1\n",
       "Rtail    33.9\n",
       "Food     13.9\n",
       "dtype: float64"
      ]
     },
     "execution_count": 49,
     "metadata": {},
     "output_type": "execute_result"
    }
   ],
   "source": [
    "wmsr = w_msr(sigma=bl_sigma, mu=bl_mu)\n",
    "# display w*\n",
    "(wmsr*100).round(1)"
   ]
  },
  {
   "cell_type": "code",
   "execution_count": 50,
   "metadata": {},
   "outputs": [
    {
     "data": {
      "text/html": [
       "<div>\n",
       "<style scoped>\n",
       "    .dataframe tbody tr th:only-of-type {\n",
       "        vertical-align: middle;\n",
       "    }\n",
       "\n",
       "    .dataframe tbody tr th {\n",
       "        vertical-align: top;\n",
       "    }\n",
       "\n",
       "    .dataframe thead th {\n",
       "        text-align: right;\n",
       "    }\n",
       "</style>\n",
       "<table border=\"1\" class=\"dataframe\">\n",
       "  <thead>\n",
       "    <tr style=\"text-align: right;\">\n",
       "      <th></th>\n",
       "      <th>Hlth</th>\n",
       "      <th>Fin</th>\n",
       "      <th>Whlsl</th>\n",
       "      <th>Rtail</th>\n",
       "      <th>Food</th>\n",
       "    </tr>\n",
       "  </thead>\n",
       "  <tbody>\n",
       "    <tr>\n",
       "      <th>0</th>\n",
       "      <td>1.0</td>\n",
       "      <td>0.0</td>\n",
       "      <td>-0.151635</td>\n",
       "      <td>-0.848365</td>\n",
       "      <td>0.0</td>\n",
       "    </tr>\n",
       "  </tbody>\n",
       "</table>\n",
       "</div>"
      ],
      "text/plain": [
       "   Hlth  Fin     Whlsl     Rtail  Food\n",
       "0   1.0  0.0 -0.151635 -0.848365   0.0"
      ]
     },
     "execution_count": 50,
     "metadata": {},
     "output_type": "execute_result"
    }
   ],
   "source": [
    "q = pd.Series([.05]) # just one view\n",
    "# start with a single view, all zeros and overwrite the specific view\n",
    "p = pd.DataFrame([0.]*len(ind_rets.columns), index=ind_rets.columns).T\n",
    "w_Rtail =  cw.loc[\"Rtail\"]/(cw.loc[\"Rtail\"]+cw.loc[\"Whlsl\"])\n",
    "w_Whlsl =  cw.loc[\"Whlsl\"]/(cw.loc[\"Rtail\"]+cw.loc[\"Whlsl\"])\n",
    "p.iloc[0]['Hlth'] = 1.\n",
    "p.iloc[0]['Rtail'] = -w_Rtail\n",
    "p.iloc[0]['Whlsl'] = -w_Whlsl\n",
    "p"
   ]
  },
  {
   "cell_type": "code",
   "execution_count": 51,
   "metadata": {},
   "outputs": [
    {
     "data": {
      "text/plain": [
       "Hlth     18.479\n",
       "Fin      16.892\n",
       "Whlsl    19.163\n",
       "Rtail    19.393\n",
       "Food     14.224\n",
       "dtype: float64"
      ]
     },
     "execution_count": 51,
     "metadata": {},
     "output_type": "execute_result"
    }
   ],
   "source": [
    "bl_mu, bl_sigma = bl(cw, sigma_prior, p, q, tau = tau)\n",
    "(bl_mu*100).round(3)"
   ]
  },
  {
   "cell_type": "code",
   "execution_count": 52,
   "metadata": {},
   "outputs": [
    {
     "data": {
      "text/plain": [
       "Hlth     32.5\n",
       "Fin      18.5\n",
       "Whlsl     5.3\n",
       "Rtail    29.8\n",
       "Food     13.9\n",
       "dtype: float64"
      ]
     },
     "execution_count": 52,
     "metadata": {},
     "output_type": "execute_result"
    }
   ],
   "source": [
    "wmsr = w_msr(sigma=bl_sigma, mu=bl_mu)\n",
    "# display w*\n",
    "(wmsr*100).round(1)"
   ]
  }
 ],
 "metadata": {
  "kernelspec": {
   "display_name": "Python 3",
   "language": "python",
   "name": "python3"
  },
  "language_info": {
   "codemirror_mode": {
    "name": "ipython",
    "version": 3
   },
   "file_extension": ".py",
   "mimetype": "text/x-python",
   "name": "python",
   "nbconvert_exporter": "python",
   "pygments_lexer": "ipython3",
   "version": "3.8.5"
  }
 },
 "nbformat": 4,
 "nbformat_minor": 4
}
